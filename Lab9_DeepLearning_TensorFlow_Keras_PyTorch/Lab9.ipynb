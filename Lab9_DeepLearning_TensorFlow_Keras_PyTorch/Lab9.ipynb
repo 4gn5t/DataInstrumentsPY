{
 "cells": [
  {
   "cell_type": "markdown",
   "id": "ea43b803",
   "metadata": {},
   "source": [
    "# Лабораторна №9. Тензори. Нейронні мережі та табличні дані.\n",
    "## Робота з тензорами."
   ]
  },
  {
   "cell_type": "markdown",
   "id": "a07fb362",
   "metadata": {},
   "source": [
    "### Імпортуйте необхідні біліотеки."
   ]
  },
  {
   "cell_type": "code",
   "execution_count": 1,
   "id": "b38ae2a9",
   "metadata": {},
   "outputs": [],
   "source": []
  },
  {
   "cell_type": "code",
   "execution_count": 2,
   "id": "aa2d68b0",
   "metadata": {},
   "outputs": [
    {
     "data": {
      "text/plain": [
       "<torch._C.Generator at 0x17551ffb310>"
      ]
     },
     "execution_count": 2,
     "metadata": {},
     "output_type": "execute_result"
    }
   ],
   "source": [
    "np.random.seed(42) # запустіть цю клітинку, щоб ваші результати співпадали з тим, що наведено у прикладі.\n",
    "torch.manual_seed(42)"
   ]
  },
  {
   "cell_type": "markdown",
   "id": "9332b303",
   "metadata": {},
   "source": [
    "### Створіть numpy масив який містить 12 випадкових цілих чисел в межах від 0 (включно) до 12 (невключно)."
   ]
  },
  {
   "cell_type": "code",
   "execution_count": 3,
   "id": "9ee02780",
   "metadata": {},
   "outputs": [],
   "source": [
    "# пишіть код тут."
   ]
  },
  {
   "cell_type": "code",
   "execution_count": 4,
   "id": "b71a2997",
   "metadata": {},
   "outputs": [
    {
     "name": "stdout",
     "output_type": "stream",
     "text": [
      "[ 6  3 10  7  4  6  9  2  6 10 10  7]\n"
     ]
    }
   ],
   "source": []
  },
  {
   "cell_type": "markdown",
   "id": "e5c3a6ab",
   "metadata": {},
   "source": [
    "### Створіть тензор з масиву, створеного вище."
   ]
  },
  {
   "cell_type": "code",
   "execution_count": 5,
   "id": "885fb195",
   "metadata": {},
   "outputs": [],
   "source": [
    "# пишіть код тут."
   ]
  },
  {
   "cell_type": "code",
   "execution_count": 6,
   "id": "5e511be1",
   "metadata": {},
   "outputs": [
    {
     "name": "stdout",
     "output_type": "stream",
     "text": [
      "tensor([ 6,  3, 10,  7,  4,  6,  9,  2,  6, 10, 10,  7], dtype=torch.int32)\n"
     ]
    }
   ],
   "source": []
  },
  {
   "cell_type": "markdown",
   "id": "8777999d",
   "metadata": {},
   "source": [
    "### Змініть тип тензора на int64."
   ]
  },
  {
   "cell_type": "code",
   "execution_count": 7,
   "id": "d32e2ce2",
   "metadata": {},
   "outputs": [],
   "source": [
    "# пишіть код тут."
   ]
  },
  {
   "cell_type": "code",
   "execution_count": 8,
   "id": "a59990c5",
   "metadata": {},
   "outputs": [
    {
     "name": "stdout",
     "output_type": "stream",
     "text": [
      "torch.LongTensor\n"
     ]
    }
   ],
   "source": [
    "x = x.long()\n",
    "print(x.type())"
   ]
  },
  {
   "cell_type": "markdown",
   "id": "243a2030",
   "metadata": {},
   "source": [
    "### Змініть розміри тензора на 3x4."
   ]
  },
  {
   "cell_type": "code",
   "execution_count": 9,
   "id": "f8ab6a05",
   "metadata": {},
   "outputs": [],
   "source": [
    "# пишіть код тут."
   ]
  },
  {
   "cell_type": "code",
   "execution_count": 10,
   "id": "b86e5743",
   "metadata": {},
   "outputs": [
    {
     "name": "stdout",
     "output_type": "stream",
     "text": [
      "tensor([[ 6,  3, 10,  7],\n",
      "        [ 4,  6,  9,  2],\n",
      "        [ 6, 10, 10,  7]])\n"
     ]
    }
   ],
   "source": []
  },
  {
   "cell_type": "markdown",
   "id": "cd369ee8",
   "metadata": {},
   "source": [
    "### Виведіть значення 4 стовпчика."
   ]
  },
  {
   "cell_type": "code",
   "execution_count": 11,
   "id": "024f6e23",
   "metadata": {},
   "outputs": [],
   "source": [
    "# пишіть код тут."
   ]
  },
  {
   "cell_type": "code",
   "execution_count": 12,
   "id": "ff8863d9",
   "metadata": {},
   "outputs": [
    {
     "data": {
      "text/plain": [
       "tensor([[7],\n",
       "        [2],\n",
       "        [7]])"
      ]
     },
     "execution_count": 12,
     "metadata": {},
     "output_type": "execute_result"
    }
   ],
   "source": []
  },
  {
   "cell_type": "markdown",
   "id": "76fd2b39",
   "metadata": {},
   "source": [
    "### Без зміни тензора, поверніть тензор, у якому є квадрати значеннь з основного тензора."
   ]
  },
  {
   "cell_type": "code",
   "execution_count": 13,
   "id": "cc0c60de",
   "metadata": {},
   "outputs": [],
   "source": [
    "# пишіть код тут."
   ]
  },
  {
   "cell_type": "code",
   "execution_count": 14,
   "id": "180c74d5",
   "metadata": {},
   "outputs": [
    {
     "data": {
      "text/plain": [
       "tensor([[ 36,   9, 100,  49],\n",
       "        [ 16,  36,  81,   4],\n",
       "        [ 36, 100, 100,  49]])"
      ]
     },
     "execution_count": 14,
     "metadata": {},
     "output_type": "execute_result"
    }
   ],
   "source": []
  },
  {
   "cell_type": "markdown",
   "id": "c7d2c436",
   "metadata": {},
   "source": [
    "### Створіть ще одни тензор, з такими ж елементами, як у основному тензорі, але який можна буде перемножити з основним тензором.\n",
    "Використайте PyTorch для створення тензора."
   ]
  },
  {
   "cell_type": "code",
   "execution_count": 15,
   "id": "d8150655",
   "metadata": {},
   "outputs": [],
   "source": [
    "# пишіть код тут."
   ]
  },
  {
   "cell_type": "code",
   "execution_count": 16,
   "id": "38ad35d5",
   "metadata": {},
   "outputs": [
    {
     "name": "stdout",
     "output_type": "stream",
     "text": [
      "tensor([[ 6, 11,  4],\n",
      "        [10,  6, 11],\n",
      "        [ 4,  8, 10],\n",
      "        [ 5, 10, 10]])\n"
     ]
    }
   ],
   "source": []
  },
  {
   "cell_type": "markdown",
   "id": "f98b2afa",
   "metadata": {},
   "source": [
    "### Знайдіть добуток двох матриць: основної, та створеної на минулому кроці."
   ]
  },
  {
   "cell_type": "code",
   "execution_count": 17,
   "id": "605a5f0e",
   "metadata": {},
   "outputs": [],
   "source": [
    "# пишіть код тут."
   ]
  },
  {
   "cell_type": "code",
   "execution_count": 18,
   "id": "d4c75e34",
   "metadata": {},
   "outputs": [
    {
     "name": "stdout",
     "output_type": "stream",
     "text": [
      "tensor([[141, 234, 227],\n",
      "        [130, 172, 192],\n",
      "        [211, 276, 304]])\n"
     ]
    }
   ],
   "source": []
  },
  {
   "cell_type": "markdown",
   "id": "f1cd69f9",
   "metadata": {},
   "source": [
    "## Нейромережі.\n",
    "Використайте один з наборів даних, які вже використовувались у попередніх лабораторних роботах. Проведіть аналіз даних, та розділіть їх на незалежні та цільові змінні. Створіть моделі штучної нейронної мережі, які зможуть прогнозувати цільову змінну використовуючи різні фреймворки. Мережі мають містити як мінімум один прихований рівень."
   ]
  }
 ],
 "metadata": {
  "kernelspec": {
   "display_name": "Python 3 (ipykernel)",
   "language": "python",
   "name": "python3"
  },
  "language_info": {
   "codemirror_mode": {
    "name": "ipython",
    "version": 3
   },
   "file_extension": ".py",
   "mimetype": "text/x-python",
   "name": "python",
   "nbconvert_exporter": "python",
   "pygments_lexer": "ipython3",
   "version": "3.11.4"
  }
 },
 "nbformat": 4,
 "nbformat_minor": 5
}
