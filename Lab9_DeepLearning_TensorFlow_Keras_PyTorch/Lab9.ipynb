{
 "cells": [
  {
   "cell_type": "markdown",
   "id": "ea43b803",
   "metadata": {},
   "source": [
    "# Лабораторна №9. Тензори. Нейронні мережі та табличні дані.\n",
    "## Робота з тензорами."
   ]
  },
  {
   "cell_type": "markdown",
   "id": "a07fb362",
   "metadata": {},
   "source": [
    "### Імпортуйте необхідні біліотеки."
   ]
  },
  {
   "cell_type": "code",
   "execution_count": 54,
   "id": "b38ae2a9",
   "metadata": {},
   "outputs": [],
   "source": [
    "import torch\n",
    "import torch.nn as nn\n",
    "import torch.nn.functional as F\n",
    "from torch.utils.data import Dataset, DataLoader\n",
    "from sklearn.model_selection import train_test_split\n",
    "\n",
    "import pandas as pd\n",
    "import numpy as np\n",
    "import matplotlib.pyplot as plt\n",
    "%matplotlib inline\n",
    "\n"
   ]
  },
  {
   "cell_type": "code",
   "execution_count": 55,
   "id": "aa2d68b0",
   "metadata": {},
   "outputs": [
    {
     "data": {
      "text/plain": [
       "<torch._C.Generator at 0x7f69a01aacb0>"
      ]
     },
     "execution_count": 55,
     "metadata": {},
     "output_type": "execute_result"
    }
   ],
   "source": [
    "np.random.seed(42) # запустіть цю клітинку, щоб ваші результати співпадали з тим, що наведено у прикладі.\n",
    "torch.manual_seed(42)"
   ]
  },
  {
   "cell_type": "markdown",
   "id": "9332b303",
   "metadata": {},
   "source": [
    "### Створіть numpy масив який містить 12 випадкових цілих чисел в межах від 0 (включно) до 12 (невключно)."
   ]
  },
  {
   "cell_type": "code",
   "execution_count": 56,
   "id": "9ee02780",
   "metadata": {},
   "outputs": [
    {
     "name": "stdout",
     "output_type": "stream",
     "text": [
      "[ 6  3 10  7  4  6  9  2  6 10 10  7]\n"
     ]
    }
   ],
   "source": [
    "# пишіть код тут.\n",
    "arr = np.random.randint(0, 12, size=12, dtype=np.int32)\n",
    "print(arr)"
   ]
  },
  {
   "cell_type": "code",
   "execution_count": 4,
   "id": "b71a2997",
   "metadata": {},
   "outputs": [
    {
     "name": "stdout",
     "output_type": "stream",
     "text": [
      "[ 6  3 10  7  4  6  9  2  6 10 10  7]\n"
     ]
    }
   ],
   "source": []
  },
  {
   "cell_type": "markdown",
   "id": "e5c3a6ab",
   "metadata": {},
   "source": [
    "### Створіть тензор з масиву, створеного вище."
   ]
  },
  {
   "cell_type": "code",
   "execution_count": 57,
   "id": "885fb195",
   "metadata": {},
   "outputs": [
    {
     "name": "stdout",
     "output_type": "stream",
     "text": [
      "tensor([ 6,  3, 10,  7,  4,  6,  9,  2,  6, 10, 10,  7], dtype=torch.int32)\n",
      "torch.int32\n"
     ]
    }
   ],
   "source": [
    "# пишіть код тут.\n",
    "x = torch.from_numpy(arr)\n",
    "print(x)\n",
    "print(x.dtype)"
   ]
  },
  {
   "cell_type": "code",
   "execution_count": 6,
   "id": "5e511be1",
   "metadata": {},
   "outputs": [
    {
     "name": "stdout",
     "output_type": "stream",
     "text": [
      "tensor([ 6,  3, 10,  7,  4,  6,  9,  2,  6, 10, 10,  7], dtype=torch.int32)\n"
     ]
    }
   ],
   "source": []
  },
  {
   "cell_type": "markdown",
   "id": "8777999d",
   "metadata": {},
   "source": [
    "### Змініть тип тензора на int64."
   ]
  },
  {
   "cell_type": "code",
   "execution_count": 58,
   "id": "d32e2ce2",
   "metadata": {},
   "outputs": [
    {
     "name": "stdout",
     "output_type": "stream",
     "text": [
      "torch.float64\n"
     ]
    }
   ],
   "source": [
    "# пишіть код тут.\n",
    "x = x.type(torch.float64)\n",
    "print(x.dtype)"
   ]
  },
  {
   "cell_type": "code",
   "execution_count": 8,
   "id": "a59990c5",
   "metadata": {},
   "outputs": [
    {
     "name": "stdout",
     "output_type": "stream",
     "text": [
      "torch.LongTensor\n"
     ]
    }
   ],
   "source": [
    "x = x.long()\n",
    "print(x.type())"
   ]
  },
  {
   "cell_type": "markdown",
   "id": "243a2030",
   "metadata": {},
   "source": [
    "### Змініть розміри тензора на 3x4."
   ]
  },
  {
   "cell_type": "code",
   "execution_count": 59,
   "id": "f8ab6a05",
   "metadata": {},
   "outputs": [
    {
     "data": {
      "text/plain": [
       "tensor([[ 6.,  3., 10.,  7.],\n",
       "        [ 4.,  6.,  9.,  2.],\n",
       "        [ 6., 10., 10.,  7.]], dtype=torch.float64)"
      ]
     },
     "execution_count": 59,
     "metadata": {},
     "output_type": "execute_result"
    }
   ],
   "source": [
    "# пишіть код тут.\n",
    "X = x.reshape(3, 4)\n",
    "X"
   ]
  },
  {
   "cell_type": "code",
   "execution_count": 10,
   "id": "b86e5743",
   "metadata": {},
   "outputs": [
    {
     "name": "stdout",
     "output_type": "stream",
     "text": [
      "tensor([[ 6,  3, 10,  7],\n",
      "        [ 4,  6,  9,  2],\n",
      "        [ 6, 10, 10,  7]])\n"
     ]
    }
   ],
   "source": []
  },
  {
   "cell_type": "markdown",
   "id": "cd369ee8",
   "metadata": {},
   "source": [
    "### Виведіть значення 4 стовпчика."
   ]
  },
  {
   "cell_type": "code",
   "execution_count": null,
   "id": "024f6e23",
   "metadata": {},
   "outputs": [
    {
     "data": {
      "text/plain": [
       "tensor([[7.],\n",
       "        [2.],\n",
       "        [7.]], dtype=torch.float64)"
      ]
     },
     "execution_count": 60,
     "metadata": {},
     "output_type": "execute_result"
    }
   ],
   "source": [
    "# пишіть код тут.\n",
    "X[:, 3].unsqueeze(1)"
   ]
  },
  {
   "cell_type": "code",
   "execution_count": 12,
   "id": "ff8863d9",
   "metadata": {},
   "outputs": [
    {
     "data": {
      "text/plain": [
       "tensor([[7],\n",
       "        [2],\n",
       "        [7]])"
      ]
     },
     "execution_count": 12,
     "metadata": {},
     "output_type": "execute_result"
    }
   ],
   "source": []
  },
  {
   "cell_type": "markdown",
   "id": "76fd2b39",
   "metadata": {},
   "source": [
    "### Без зміни тензора, поверніть тензор, у якому є квадрати значеннь з основного тензора."
   ]
  },
  {
   "cell_type": "code",
   "execution_count": 63,
   "id": "cc0c60de",
   "metadata": {},
   "outputs": [
    {
     "data": {
      "text/plain": [
       "tensor([[ 36.,   9., 100.,  49.],\n",
       "        [ 16.,  36.,  81.,   4.],\n",
       "        [ 36., 100., 100.,  49.]], dtype=torch.float64)"
      ]
     },
     "execution_count": 63,
     "metadata": {},
     "output_type": "execute_result"
    }
   ],
   "source": [
    "# пишіть код тут.\n",
    "X ** 2\n",
    " "
   ]
  },
  {
   "cell_type": "code",
   "execution_count": 14,
   "id": "180c74d5",
   "metadata": {},
   "outputs": [
    {
     "data": {
      "text/plain": [
       "tensor([[ 36,   9, 100,  49],\n",
       "        [ 16,  36,  81,   4],\n",
       "        [ 36, 100, 100,  49]])"
      ]
     },
     "execution_count": 14,
     "metadata": {},
     "output_type": "execute_result"
    }
   ],
   "source": []
  },
  {
   "cell_type": "markdown",
   "id": "c7d2c436",
   "metadata": {},
   "source": [
    "### Створіть ще одни тензор, з такими ж елементами, як у основному тензорі, але який можна буде перемножити з основним тензором.\n",
    "Використайте PyTorch для створення тензора."
   ]
  },
  {
   "cell_type": "code",
   "execution_count": 100,
   "id": "d8150655",
   "metadata": {},
   "outputs": [
    {
     "data": {
      "text/plain": [
       "tensor([[ 8, 11,  6],\n",
       "        [ 8,  7, 11],\n",
       "        [ 1,  0,  6],\n",
       "        [ 6,  7,  4]], dtype=torch.int32)"
      ]
     },
     "execution_count": 100,
     "metadata": {},
     "output_type": "execute_result"
    }
   ],
   "source": [
    "# пишіть код тут.\n",
    "X2 = np.random.randint(0, 12, size=(3, 4), dtype=np.int32)\n",
    "X2 = torch.from_numpy(X2)\n",
    "X2.reshape(4, 3)"
   ]
  },
  {
   "cell_type": "code",
   "execution_count": 101,
   "id": "0b5f1459",
   "metadata": {},
   "outputs": [
    {
     "data": {
      "text/plain": [
       "tensor([[ 6,  3, 10],\n",
       "        [ 7,  4,  6],\n",
       "        [ 9,  2,  6],\n",
       "        [10, 10,  7]], dtype=torch.int32)"
      ]
     },
     "execution_count": 101,
     "metadata": {},
     "output_type": "execute_result"
    }
   ],
   "source": [
    "X = X.int()\n",
    "X"
   ]
  },
  {
   "cell_type": "code",
   "execution_count": 16,
   "id": "38ad35d5",
   "metadata": {},
   "outputs": [
    {
     "name": "stdout",
     "output_type": "stream",
     "text": [
      "tensor([[ 6, 11,  4],\n",
      "        [10,  6, 11],\n",
      "        [ 4,  8, 10],\n",
      "        [ 5, 10, 10]])\n"
     ]
    }
   ],
   "source": []
  },
  {
   "cell_type": "markdown",
   "id": "f98b2afa",
   "metadata": {},
   "source": [
    "### Знайдіть добуток двох матриць: основної, та створеної на минулому кроці."
   ]
  },
  {
   "cell_type": "code",
   "execution_count": 102,
   "id": "605a5f0e",
   "metadata": {},
   "outputs": [
    {
     "data": {
      "text/plain": [
       "tensor([[129, 159, 109,  88],\n",
       "        [120, 157,  88,  80],\n",
       "        [122, 157,  98,  96],\n",
       "        [192, 262, 119, 108]], dtype=torch.int32)"
      ]
     },
     "execution_count": 102,
     "metadata": {},
     "output_type": "execute_result"
    }
   ],
   "source": [
    "# пишіть код тут.\n",
    "X @ X2"
   ]
  },
  {
   "cell_type": "code",
   "execution_count": 18,
   "id": "d4c75e34",
   "metadata": {},
   "outputs": [
    {
     "name": "stdout",
     "output_type": "stream",
     "text": [
      "tensor([[141, 234, 227],\n",
      "        [130, 172, 192],\n",
      "        [211, 276, 304]])\n"
     ]
    }
   ],
   "source": []
  },
  {
   "cell_type": "markdown",
   "id": "f1cd69f9",
   "metadata": {},
   "source": [
    "## Нейромережі.\n",
    "Використайте один з наборів даних, які вже використовувались у попередніх лабораторних роботах. Проведіть аналіз даних, та розділіть їх на незалежні та цільові змінні. Створіть моделі штучної нейронної мережі, які зможуть прогнозувати цільову змінну використовуючи різні фреймворки. Мережі мають містити як мінімум один прихований рівень."
   ]
  },
  {
   "cell_type": "code",
   "execution_count": 76,
   "id": "c61441a2",
   "metadata": {},
   "outputs": [],
   "source": [
    "import pandas as pd\n",
    "import torch\n",
    "import numpy as np\n",
    "from sklearn.datasets import load_wine\n",
    "from sklearn.model_selection import train_test_split\n",
    "from torch import nn\n",
    "from torch.optim import Adam\n",
    "from tqdm import tqdm\n",
    "from torch.utils.data import DataLoader\n",
    "from matplotlib import pyplot as plt\n",
    "from sklearn.preprocessing import StandardScaler\n",
    "import seaborn as sns\n",
    "sns.set_style(\"whitegrid\")\n",
    "%matplotlib inline"
   ]
  },
  {
   "cell_type": "code",
   "execution_count": 77,
   "id": "6f996d0c",
   "metadata": {},
   "outputs": [
    {
     "name": "stdout",
     "output_type": "stream",
     "text": [
      "cuda:0\n"
     ]
    }
   ],
   "source": [
    "device = torch.device(\"cuda:0\" if torch.cuda.is_available() else \"cpu\")\n",
    "print(device)"
   ]
  },
  {
   "cell_type": "code",
   "execution_count": null,
   "id": "fbd0630b",
   "metadata": {},
   "outputs": [],
   "source": [
    "wine_data = load_wine()\n",
    "X_wine = wine_data.data\n",
    "y_wine = wine_data.target"
   ]
  },
  {
   "cell_type": "code",
   "execution_count": 115,
   "id": "ffd21db9",
   "metadata": {},
   "outputs": [
    {
     "data": {
      "text/plain": [
       "array([[1.423e+01, 1.710e+00, 2.430e+00, 1.560e+01, 1.270e+02, 2.800e+00,\n",
       "        3.060e+00, 2.800e-01, 2.290e+00, 5.640e+00, 1.040e+00, 3.920e+00,\n",
       "        1.065e+03],\n",
       "       [1.320e+01, 1.780e+00, 2.140e+00, 1.120e+01, 1.000e+02, 2.650e+00,\n",
       "        2.760e+00, 2.600e-01, 1.280e+00, 4.380e+00, 1.050e+00, 3.400e+00,\n",
       "        1.050e+03],\n",
       "       [1.316e+01, 2.360e+00, 2.670e+00, 1.860e+01, 1.010e+02, 2.800e+00,\n",
       "        3.240e+00, 3.000e-01, 2.810e+00, 5.680e+00, 1.030e+00, 3.170e+00,\n",
       "        1.185e+03],\n",
       "       [1.437e+01, 1.950e+00, 2.500e+00, 1.680e+01, 1.130e+02, 3.850e+00,\n",
       "        3.490e+00, 2.400e-01, 2.180e+00, 7.800e+00, 8.600e-01, 3.450e+00,\n",
       "        1.480e+03],\n",
       "       [1.324e+01, 2.590e+00, 2.870e+00, 2.100e+01, 1.180e+02, 2.800e+00,\n",
       "        2.690e+00, 3.900e-01, 1.820e+00, 4.320e+00, 1.040e+00, 2.930e+00,\n",
       "        7.350e+02]])"
      ]
     },
     "execution_count": 115,
     "metadata": {},
     "output_type": "execute_result"
    }
   ],
   "source": [
    "X_wine[:5]"
   ]
  },
  {
   "cell_type": "code",
   "execution_count": 79,
   "id": "c8874738",
   "metadata": {},
   "outputs": [
    {
     "data": {
      "text/plain": [
       "(178, 13)"
      ]
     },
     "execution_count": 79,
     "metadata": {},
     "output_type": "execute_result"
    }
   ],
   "source": [
    "X_wine.shape"
   ]
  },
  {
   "cell_type": "code",
   "execution_count": 80,
   "id": "5ae97ac7",
   "metadata": {},
   "outputs": [],
   "source": [
    "X_train, X_test, y_train, y_test = train_test_split(X_wine, y_wine, test_size=0.2, random_state=42)"
   ]
  },
  {
   "cell_type": "code",
   "execution_count": 81,
   "id": "bb41384c",
   "metadata": {},
   "outputs": [
    {
     "data": {
      "text/plain": [
       "(array([1.29790845e+01, 2.37352113e+00, 2.36084507e+00, 1.94732394e+01,\n",
       "        1.00443662e+02, 2.28908451e+00, 2.00211268e+00, 3.68028169e-01,\n",
       "        1.60802817e+00, 5.05760563e+00, 9.56380282e-01, 2.59281690e+00,\n",
       "        7.34894366e+02]),\n",
       " array([1.30855556e+01, 2.18972222e+00, 2.38888889e+00, 1.95805556e+01,\n",
       "        9.69722222e+01, 2.31888889e+00, 2.13638889e+00, 3.37500000e-01,\n",
       "        1.52333333e+00, 5.05999997e+00, 9.61666667e-01, 2.68611111e+00,\n",
       "        7.94222222e+02]))"
      ]
     },
     "execution_count": 81,
     "metadata": {},
     "output_type": "execute_result"
    }
   ],
   "source": [
    "X_train.mean(axis=0), X_test.mean(axis=0)"
   ]
  },
  {
   "cell_type": "code",
   "execution_count": 82,
   "id": "38768ec9",
   "metadata": {},
   "outputs": [
    {
     "data": {
      "text/plain": [
       "(array([8.17222973e-01, 1.13989881e+00, 2.78232583e-01, 3.44260619e+00,\n",
       "        1.45991147e+01, 6.35465788e-01, 1.00062785e+00, 1.27816106e-01,\n",
       "        5.81597169e-01, 2.32269541e+00, 2.33275142e-01, 7.19593358e-01,\n",
       "        3.01257195e+02]),\n",
       " array([7.72680919e-01, 9.91885091e-01, 2.53122476e-01, 2.84202778e+00,\n",
       "        1.23546800e+01, 5.76424698e-01, 9.70395546e-01, 1.04731800e-01,\n",
       "        5.20309737e-01, 2.26813427e+00, 2.05433147e-01, 6.54973612e-01,\n",
       "        3.56062035e+02]))"
      ]
     },
     "execution_count": 82,
     "metadata": {},
     "output_type": "execute_result"
    }
   ],
   "source": [
    "X_train.std(axis=0), X_test.std(axis=0)"
   ]
  },
  {
   "cell_type": "code",
   "execution_count": 83,
   "id": "1739297a",
   "metadata": {},
   "outputs": [],
   "source": [
    "scaler = StandardScaler()\n",
    "X_train=scaler.fit_transform(X_train)\n",
    "X_test=scaler.transform(X_test)"
   ]
  },
  {
   "cell_type": "code",
   "execution_count": 84,
   "id": "81109e6e",
   "metadata": {},
   "outputs": [
    {
     "data": {
      "text/plain": [
       "(array([ 8.30321727e-15, -5.73387191e-16,  4.72196617e-15,  1.22359087e-16,\n",
       "        -3.69813726e-16,  1.83343169e-16,  9.90795865e-16, -1.01268759e-15,\n",
       "         3.63558948e-16,  3.19775505e-16,  1.24626444e-15,  1.76697467e-16,\n",
       "        -1.56369440e-18]),\n",
       " array([ 0.13028396, -0.16124142,  0.10079272,  0.03117293, -0.23778426,\n",
       "         0.04690163,  0.13419196, -0.23884446, -0.14562457,  0.00103084,\n",
       "         0.02266159,  0.12964851,  0.19693424]))"
      ]
     },
     "execution_count": 84,
     "metadata": {},
     "output_type": "execute_result"
    }
   ],
   "source": [
    "X_train.mean(axis=0), X_test.mean(axis=0)"
   ]
  },
  {
   "cell_type": "code",
   "execution_count": 85,
   "id": "66c26853",
   "metadata": {},
   "outputs": [
    {
     "data": {
      "text/plain": [
       "(array([1., 1., 1., 1., 1., 1., 1., 1., 1., 1., 1., 1., 1.]),\n",
       " array([0.94549584, 0.87015188, 0.90975138, 0.82554542, 0.84626227,\n",
       "        0.90709006, 0.96978666, 0.81939439, 0.8946222 , 0.97650956,\n",
       "        0.8806474 , 0.91019964, 1.18192044]))"
      ]
     },
     "execution_count": 85,
     "metadata": {},
     "output_type": "execute_result"
    }
   ],
   "source": [
    "X_train.std(axis=0), X_test.std(axis=0)"
   ]
  },
  {
   "cell_type": "code",
   "execution_count": null,
   "id": "2aa414ba",
   "metadata": {},
   "outputs": [],
   "source": [
    "class NetModel(nn.Module):\n",
    "    def __init__(self, input_dim, nclass, layer_size=[32, 64], dropout=0.3):\n",
    "        super(NetModel, self).__init__()\n",
    "        self.fc1 = nn.Linear(input_dim, layer_size[0])\n",
    "        self.fc2 = nn.Linear(layer_size[0], layer_size[1])\n",
    "        self.fc3 = nn.Linear(layer_size[1], nclass)\n",
    "        self.dropout1 = nn.Dropout(dropout)\n",
    "        self.dropout2 = nn.Dropout(dropout)\n",
    "        self.relu1 = nn.ReLU()\n",
    "        self.relu2 = nn.ReLU()\n",
    "\n",
    "    def forward(self, X):\n",
    "        X = self.dropout1(self.relu1(self.fc1(X)))\n",
    "        X = self.dropout2(self.relu2(self.fc2(X)))\n",
    "        X = self.fc3(X)\n",
    "        return X"
   ]
  },
  {
   "cell_type": "code",
   "execution_count": 126,
   "id": "112ddea5",
   "metadata": {},
   "outputs": [],
   "source": [
    "class Dataset(torch.utils.data.Dataset):\n",
    "    \n",
    "    def __init__(self, X, y):\n",
    "        self.X = torch.FloatTensor(X) \n",
    "        self.y = torch.LongTensor(y)\n",
    "    \n",
    "    def __getitem__(self, idx):\n",
    "        return self.X[idx], self.y[idx]\n",
    "    \n",
    "    def __len__(self):\n",
    "        return len(self.y)"
   ]
  },
  {
   "cell_type": "code",
   "execution_count": 127,
   "id": "76788007",
   "metadata": {},
   "outputs": [],
   "source": [
    "batch_size = 32\n",
    "\n",
    "train_d = Dataset(X_train, y_train)\n",
    "test_d = Dataset(X_test, y_test)\n",
    "\n",
    "train_dl = DataLoader(train_d, batch_size=batch_size, shuffle=True)\n",
    "test_dl = DataLoader(test_d, batch_size=batch_size, shuffle=False)\n",
    "\n",
    "n_train=X_train.shape[0]\n",
    "n_test=X_test.shape[0]"
   ]
  },
  {
   "cell_type": "code",
   "execution_count": 128,
   "id": "9514c399",
   "metadata": {},
   "outputs": [
    {
     "data": {
      "text/plain": [
       "[tensor([[-1.4306e+00, -2.2241e-01,  1.3627e+00,  5.8873e-01,  2.2985e+00,\n",
       "          -1.0844e+00, -1.0115e+00, -1.7840e+00, -8.2580e-02, -1.1011e+00,\n",
       "          -2.7351e-02, -4.6251e-01, -3.6479e-01],\n",
       "         [ 9.0663e-01, -8.2772e-01,  5.0014e-01, -8.0556e-01,  5.1759e-01,\n",
       "           1.7482e+00,  1.6668e+00, -1.3928e+00,  7.4273e-01,  7.5016e-01,\n",
       "          -2.8456e-01,  3.8519e-01,  1.8260e+00],\n",
       "         [-1.2470e+00, -1.1260e+00, -2.1868e-01,  4.4349e-01,  3.8108e-02,\n",
       "           1.7167e+00,  1.3780e-01, -1.8623e+00,  7.2166e-02, -7.9546e-01,\n",
       "           1.4412e-01,  7.4651e-01,  5.0158e-01],\n",
       "         [ 1.7142e+00,  1.0672e+00, -2.9057e-01, -1.0089e+00,  1.0660e-01,\n",
       "           1.5121e+00,  1.1672e+00, -7.6695e-01,  1.0006e+00, -6.7855e-02,\n",
       "           3.5846e-01,  1.1773e+00,  1.0958e+00],\n",
       "         [ 3.5598e-01,  1.6725e+00, -3.6245e-01,  1.5301e-01,  1.3396e+00,\n",
       "          -1.1001e+00, -1.3113e+00,  4.8485e-01, -4.4365e-01,  2.2140e+00,\n",
       "          -1.5706e+00, -1.4353e+00,  3.3229e-01],\n",
       "         [ 1.5307e+00, -5.8209e-01,  2.4855e-01, -1.1251e+00,  1.8190e+00,\n",
       "           8.0400e-01,  1.0572e+00, -6.8871e-01,  1.1726e+00,  2.5074e-01,\n",
       "           3.5846e-01,  1.8444e+00,  1.0958e+00],\n",
       "         [-1.3938e+00,  4.5309e-01, -4.7027e-01, -4.2794e-01,  7.9158e-01,\n",
       "          -8.9554e-01, -6.8168e-01,  4.8485e-01, -1.1314e+00, -1.0366e+00,\n",
       "           1.5517e-02, -1.0119e-01, -7.7971e-01],\n",
       "         [ 1.4940e+00, -5.3822e-01,  3.2043e-01, -1.2413e+00,  7.9158e-01,\n",
       "           1.5436e+00,  1.3870e+00, -2.1929e-01,  6.2238e-01,  7.2863e-01,\n",
       "           4.0133e-01,  3.5740e-01,  2.3737e+00],\n",
       "         [ 5.7624e-01,  1.1637e+00,  8.5955e-01,  1.0244e+00,  7.2308e-01,\n",
       "          -9.2701e-01, -1.0814e+00,  4.8485e-01, -2.5452e-01,  2.4206e+00,\n",
       "          -4.5603e-01, -1.4353e+00, -1.3243e-01],\n",
       "         [-7.4531e-01, -1.0909e+00, -7.2186e-01, -1.3747e-01, -9.2085e-01,\n",
       "           1.9056e+00,  1.0972e+00, -1.3928e+00,  4.5044e-01, -2.6160e-01,\n",
       "           1.1301e+00,  3.8519e-01, -1.0453e+00],\n",
       "         [ 1.4083e+00,  1.5146e+00,  1.3627e+00,  1.4602e+00, -3.0438e-01,\n",
       "          -3.7624e-01, -1.2413e+00,  1.5019e+00, -4.4365e-01,  1.7834e+00,\n",
       "          -1.4849e+00, -1.3797e+00, -5.8055e-01],\n",
       "         [ 2.2138e-01, -1.1862e-02,  1.1111e+00, -2.5366e-01,  3.8108e-02,\n",
       "           8.0400e-01,  1.2371e+00, -5.3223e-01,  2.0667e+00,  2.6796e-01,\n",
       "           3.1559e-01,  8.0210e-01,  1.4941e+00],\n",
       "         [-1.3571e+00,  1.6988e+00,  1.0479e-01,  4.4349e-01, -1.2633e+00,\n",
       "           8.9842e-01,  1.0272e+00, -1.2364e+00,  2.2386e+00, -9.7198e-01,\n",
       "          -8.8471e-01,  1.4552e+00, -1.1780e+00],\n",
       "         [ 3.1927e-01,  1.8991e-01,  1.8300e+00,  4.4349e-01,  1.2026e+00,\n",
       "           8.0400e-01,  6.8746e-01,  1.7190e-01,  3.6447e-01, -3.1756e-01,\n",
       "           3.5846e-01,  4.6857e-01,  3.5064e-04],\n",
       "         [-1.5796e-01, -6.7859e-01,  5.7202e-01, -4.8604e-01, -3.7288e-01,\n",
       "           3.0043e-01,  3.6766e-01, -8.4518e-01, -2.5452e-01, -4.8547e-01,\n",
       "           5.7280e-01,  1.4413e+00,  9.2979e-01],\n",
       "         [ 6.1295e-01, -6.1718e-01,  1.0033e+00,  8.7921e-01, -7.8386e-01,\n",
       "           4.8927e-01, -9.0155e-01,  1.1890e+00,  1.1726e+00,  2.8813e+00,\n",
       "          -1.6563e+00, -1.1296e+00, -3.8138e-01],\n",
       "         [ 1.5185e+00, -5.9086e-01, -2.1868e-01, -9.2176e-01,  1.2026e+00,\n",
       "           1.4335e+00,  9.9726e-01, -8.4518e-01,  7.2554e-01,  5.6934e-01,\n",
       "          -7.0219e-02,  9.9665e-01,  7.8041e-01],\n",
       "         [-1.6386e+00, -2.7504e-01,  3.5637e-01,  6.1778e-01, -1.1263e+00,\n",
       "          -5.3360e-01, -3.1192e-01,  8.7604e-01, -4.4365e-01, -9.7198e-01,\n",
       "           1.8699e-01,  2.1843e-01, -1.8222e-01],\n",
       "         [ 6.2518e-01,  1.0672e+00, -6.1404e-01,  7.7733e-03, -8.5236e-01,\n",
       "          -1.0529e+00, -1.5212e+00,  1.6584e+00, -1.2518e+00,  2.7657e-01,\n",
       "          -6.2750e-01, -1.0740e+00, -5.1416e-01],\n",
       "         [-1.5796e-01,  7.8645e-01,  7.8767e-01,  7.3397e-01,  3.8059e-01,\n",
       "          -1.0057e+00, -1.4012e+00,  1.8149e+00, -1.1142e+00,  2.2491e-01,\n",
       "          -3.7029e-01, -6.7096e-01, -5.4735e-01],\n",
       "         [ 6.6189e-01,  6.9873e-01,  1.2908e+00,  1.1697e+00, -2.3588e-01,\n",
       "          -1.1631e+00, -1.4812e+00,  1.0325e+00, -1.8192e+00, -3.0465e-01,\n",
       "          -2.8456e-01, -7.4044e-01, -7.1333e-01],\n",
       "         [-8.4320e-01, -8.4527e-01, -1.3688e+00, -1.0089e+00, -1.0578e+00,\n",
       "           4.1059e-01,  4.9757e-01, -6.1047e-01,  2.7849e-01, -9.2892e-01,\n",
       "           1.1729e+00,  2.0454e-01, -1.0187e+00],\n",
       "         [ 1.1125e-01, -7.6631e-01, -9.3751e-01, -1.1541e+00, -1.6738e-01,\n",
       "           1.7454e-01,  6.3749e-01, -6.8871e-01, -4.0927e-01, -5.8450e-01,\n",
       "           9.5861e-01,  1.3505e-01,  9.4639e-01],\n",
       "         [-3.4150e-01,  1.0321e+00, -3.0373e-03,  5.8873e-01,  3.8059e-01,\n",
       "          -9.2701e-01, -8.0161e-01, -1.5493e+00, -1.3206e+00, -2.4801e-02,\n",
       "          -7.5610e-01, -1.8105e+00, -4.4777e-01],\n",
       "         [ 8.6776e-02, -2.8382e-01,  3.0879e+00,  1.6054e+00,  1.6135e+00,\n",
       "           5.3648e-01,  6.7746e-01,  7.9780e-01,  5.3641e-01, -6.3616e-01,\n",
       "           7.4427e-01,  8.4379e-01,  3.1570e-01],\n",
       "         [-1.4917e+00,  2.6886e-01,  2.0097e+00,  1.5301e-01,  1.7510e-01,\n",
       "          -8.4833e-01,  2.7870e-02,  1.8149e+00, -9.5948e-01, -5.4144e-01,\n",
       "           1.1729e+00, -1.2899e-01, -4.2454e-01],\n",
       "         [ 6.4966e-01, -5.0313e-01,  1.0393e+00, -1.3747e-01,  6.5458e-01,\n",
       "           9.5860e-02,  5.2756e-01, -6.1047e-01, -1.1697e-01, -3.6923e-01,\n",
       "           6.1567e-01,  3.8519e-01,  1.1953e+00],\n",
       "         [ 8.9439e-01, -4.5050e-01, -3.0373e-03, -8.3461e-01,  3.8108e-02,\n",
       "           5.0501e-01,  8.7734e-01, -7.6695e-01,  1.4094e-01, -5.4144e-01,\n",
       "           6.5853e-01,  1.9555e+00,  9.9618e-01],\n",
       "         [-7.4531e-01, -1.2576e+00, -3.5972e+00, -2.5775e+00, -8.5236e-01,\n",
       "          -4.8639e-01, -1.4312e+00, -6.8871e-01, -2.0427e+00, -1.3379e+00,\n",
       "           4.0133e-01, -1.0740e+00, -7.1333e-01],\n",
       "         [ 8.6776e-02,  1.3040e+00, -1.4680e-01,  8.7921e-01, -1.0578e+00,\n",
       "          -1.0057e+00, -4.1185e-01,  1.8931e+00,  2.0584e-02, -1.1091e-01,\n",
       "          -4.9890e-01, -8.0993e-01, -7.2992e-01],\n",
       "         [-1.1491e+00,  1.6900e+00,  6.8845e-02,  7.3397e-01, -1.4003e+00,\n",
       "          -2.9755e-01, -2.5195e-01,  4.0661e-01, -4.4365e-01, -1.0581e+00,\n",
       "          -7.1324e-01, -3.1708e-02, -5.1416e-01],\n",
       "         [-6.2294e-01, -7.4877e-01, -5.7810e-01, -1.3747e-01,  4.2164e+00,\n",
       "           3.3191e-01,  2.6772e-01, -3.7576e-01,  2.8748e+00, -1.0581e+00,\n",
       "           8.7287e-01,  5.1672e-02,  6.7087e-01]]),\n",
       " tensor([1, 0, 1, 0, 2, 0, 1, 0, 2, 1, 2, 0, 1, 0, 0, 2, 0, 1, 2, 2, 2, 1, 0, 2,\n",
       "         0, 1, 0, 0, 1, 1, 1, 1])]"
      ]
     },
     "execution_count": 128,
     "metadata": {},
     "output_type": "execute_result"
    }
   ],
   "source": [
    "next(iter(train_dl))"
   ]
  },
  {
   "cell_type": "code",
   "execution_count": 129,
   "id": "ac98f7c3",
   "metadata": {},
   "outputs": [
    {
     "data": {
      "text/plain": [
       "142"
      ]
     },
     "execution_count": 129,
     "metadata": {},
     "output_type": "execute_result"
    }
   ],
   "source": [
    "train_d.__len__()"
   ]
  },
  {
   "cell_type": "code",
   "execution_count": 130,
   "id": "647c6117",
   "metadata": {},
   "outputs": [
    {
     "data": {
      "text/plain": [
       "(142, 13)"
      ]
     },
     "execution_count": 130,
     "metadata": {},
     "output_type": "execute_result"
    }
   ],
   "source": [
    "X_train.shape"
   ]
  },
  {
   "cell_type": "code",
   "execution_count": 131,
   "id": "ec6f3900",
   "metadata": {},
   "outputs": [
    {
     "data": {
      "text/plain": [
       "5"
      ]
     },
     "execution_count": 131,
     "metadata": {},
     "output_type": "execute_result"
    }
   ],
   "source": [
    "len(train_dl)"
   ]
  },
  {
   "cell_type": "code",
   "execution_count": 132,
   "id": "22f534af",
   "metadata": {},
   "outputs": [],
   "source": [
    "model=NetModel(input_dim=13, nclass=3, layer_size=[32,64], dropout=0.1).to(device)\n",
    "criterion = nn.CrossEntropyLoss()\n",
    "optimizer = torch.optim.Adam(model.parameters(), lr=0.005)"
   ]
  },
  {
   "cell_type": "code",
   "execution_count": 133,
   "id": "a45aa39b",
   "metadata": {},
   "outputs": [
    {
     "name": "stdout",
     "output_type": "stream",
     "text": [
      "NetModel(\n",
      "  (fc1): Linear(in_features=13, out_features=32, bias=True)\n",
      "  (fc2): Linear(in_features=32, out_features=64, bias=True)\n",
      "  (fc3): Linear(in_features=64, out_features=3, bias=True)\n",
      "  (dropout1): Dropout(p=0.1, inplace=False)\n",
      "  (dropout2): Dropout(p=0.1, inplace=False)\n",
      "  (relu1): ReLU()\n",
      "  (relu2): ReLU()\n",
      ")\n"
     ]
    }
   ],
   "source": [
    "print(model)"
   ]
  },
  {
   "cell_type": "code",
   "execution_count": 134,
   "id": "d1929e16",
   "metadata": {},
   "outputs": [],
   "source": [
    "loss_train_list=[]\n",
    "loss_val_list=[]\n",
    "acc_train_list=[]\n",
    "acc_val_list=[]"
   ]
  },
  {
   "cell_type": "code",
   "execution_count": 135,
   "id": "0cea1122",
   "metadata": {},
   "outputs": [
    {
     "name": "stderr",
     "output_type": "stream",
     "text": [
      "100%|██████████| 5/5 [00:00<00:00, 134.45it/s]\n"
     ]
    },
    {
     "name": "stdout",
     "output_type": "stream",
     "text": [
      "Epochs: 1 | Train Loss:  0.037 | Train Accuracy:  0.472 | Val Loss:  0.052| Val Accuracy:  0.778\n"
     ]
    },
    {
     "name": "stderr",
     "output_type": "stream",
     "text": [
      "100%|██████████| 5/5 [00:00<00:00, 207.76it/s]\n"
     ]
    },
    {
     "name": "stdout",
     "output_type": "stream",
     "text": [
      "Epochs: 2 | Train Loss:  0.029 | Train Accuracy:  0.810 | Val Loss:  0.036| Val Accuracy:  0.944\n"
     ]
    },
    {
     "name": "stderr",
     "output_type": "stream",
     "text": [
      "100%|██████████| 5/5 [00:00<00:00, 183.12it/s]\n"
     ]
    },
    {
     "name": "stdout",
     "output_type": "stream",
     "text": [
      "Epochs: 3 | Train Loss:  0.017 | Train Accuracy:  0.923 | Val Loss:  0.016| Val Accuracy:  1.000\n"
     ]
    },
    {
     "name": "stderr",
     "output_type": "stream",
     "text": [
      "100%|██████████| 5/5 [00:00<00:00, 180.83it/s]\n"
     ]
    },
    {
     "name": "stdout",
     "output_type": "stream",
     "text": [
      "Epochs: 4 | Train Loss:  0.009 | Train Accuracy:  0.951 | Val Loss:  0.005| Val Accuracy:  1.000\n"
     ]
    },
    {
     "name": "stderr",
     "output_type": "stream",
     "text": [
      "100%|██████████| 5/5 [00:00<00:00, 265.89it/s]\n"
     ]
    },
    {
     "name": "stdout",
     "output_type": "stream",
     "text": [
      "Epochs: 5 | Train Loss:  0.005 | Train Accuracy:  0.972 | Val Loss:  0.001| Val Accuracy:  1.000\n"
     ]
    },
    {
     "name": "stderr",
     "output_type": "stream",
     "text": [
      "100%|██████████| 5/5 [00:00<00:00, 147.02it/s]\n"
     ]
    },
    {
     "name": "stdout",
     "output_type": "stream",
     "text": [
      "Epochs: 6 | Train Loss:  0.003 | Train Accuracy:  0.972 | Val Loss:  0.001| Val Accuracy:  1.000\n"
     ]
    },
    {
     "name": "stderr",
     "output_type": "stream",
     "text": [
      "100%|██████████| 5/5 [00:00<00:00, 127.29it/s]\n"
     ]
    },
    {
     "name": "stdout",
     "output_type": "stream",
     "text": [
      "Epochs: 7 | Train Loss:  0.001 | Train Accuracy:  0.986 | Val Loss:  0.000| Val Accuracy:  1.000\n"
     ]
    },
    {
     "name": "stderr",
     "output_type": "stream",
     "text": [
      "100%|██████████| 5/5 [00:00<00:00, 205.41it/s]\n"
     ]
    },
    {
     "name": "stdout",
     "output_type": "stream",
     "text": [
      "Epochs: 8 | Train Loss:  0.001 | Train Accuracy:  0.993 | Val Loss:  0.000| Val Accuracy:  1.000\n"
     ]
    },
    {
     "name": "stderr",
     "output_type": "stream",
     "text": [
      "100%|██████████| 5/5 [00:00<00:00, 304.19it/s]\n"
     ]
    },
    {
     "name": "stdout",
     "output_type": "stream",
     "text": [
      "Epochs: 9 | Train Loss:  0.001 | Train Accuracy:  0.993 | Val Loss:  0.000| Val Accuracy:  1.000\n"
     ]
    },
    {
     "name": "stderr",
     "output_type": "stream",
     "text": [
      "100%|██████████| 5/5 [00:00<00:00, 261.42it/s]\n"
     ]
    },
    {
     "name": "stdout",
     "output_type": "stream",
     "text": [
      "Epochs: 10 | Train Loss:  0.001 | Train Accuracy:  0.986 | Val Loss:  0.000| Val Accuracy:  1.000\n"
     ]
    },
    {
     "name": "stderr",
     "output_type": "stream",
     "text": [
      "100%|██████████| 5/5 [00:00<00:00, 300.12it/s]\n"
     ]
    },
    {
     "name": "stdout",
     "output_type": "stream",
     "text": [
      "Epochs: 11 | Train Loss:  0.001 | Train Accuracy:  0.993 | Val Loss:  0.000| Val Accuracy:  1.000\n"
     ]
    },
    {
     "name": "stderr",
     "output_type": "stream",
     "text": [
      "100%|██████████| 5/5 [00:00<00:00, 298.71it/s]\n"
     ]
    },
    {
     "name": "stdout",
     "output_type": "stream",
     "text": [
      "Epochs: 12 | Train Loss:  0.000 | Train Accuracy:  0.993 | Val Loss:  0.000| Val Accuracy:  1.000\n"
     ]
    },
    {
     "name": "stderr",
     "output_type": "stream",
     "text": [
      "100%|██████████| 5/5 [00:00<00:00, 196.77it/s]\n"
     ]
    },
    {
     "name": "stdout",
     "output_type": "stream",
     "text": [
      "Epochs: 13 | Train Loss:  0.000 | Train Accuracy:  1.000 | Val Loss:  0.000| Val Accuracy:  1.000\n"
     ]
    },
    {
     "name": "stderr",
     "output_type": "stream",
     "text": [
      "100%|██████████| 5/5 [00:00<00:00, 217.66it/s]\n"
     ]
    },
    {
     "name": "stdout",
     "output_type": "stream",
     "text": [
      "Epochs: 14 | Train Loss:  0.000 | Train Accuracy:  1.000 | Val Loss:  0.000| Val Accuracy:  1.000\n"
     ]
    },
    {
     "name": "stderr",
     "output_type": "stream",
     "text": [
      "100%|██████████| 5/5 [00:00<00:00, 200.25it/s]\n"
     ]
    },
    {
     "name": "stdout",
     "output_type": "stream",
     "text": [
      "Epochs: 15 | Train Loss:  0.000 | Train Accuracy:  1.000 | Val Loss:  0.000| Val Accuracy:  1.000\n"
     ]
    }
   ],
   "source": [
    "epochs= 15\n",
    "    \n",
    "for epoch in range(epochs):\n",
    "    model.train()\n",
    "    \n",
    "    acc_train = 0\n",
    "    loss_train = 0\n",
    "\n",
    "    for X,y in tqdm(train_dl):\n",
    "        X = X.to(device)\n",
    "        y = y.to(device)\n",
    "                \n",
    "        output = model(X)\n",
    "                \n",
    "        loss = criterion(output, y)\n",
    "        loss_train += loss.item()\n",
    "                \n",
    "        acc = (output.argmax(dim=1) == y).sum().item()\n",
    "        acc_train += acc\n",
    "\n",
    "        optimizer.zero_grad()\n",
    "        loss.backward()\n",
    "        optimizer.step()\n",
    "    \n",
    "    acc_val = 0\n",
    "    loss_val = 0\n",
    "    model.eval()\n",
    "    with torch.no_grad():\n",
    "        for X,y in test_dl:\n",
    "            X = X.to(device)\n",
    "            y = y.to(device)\n",
    "            \n",
    "            output = model(X)\n",
    "            \n",
    "            loss = criterion(output, y)\n",
    "            loss_val += loss.item()\n",
    "            \n",
    "            acc = (output.argmax(dim=1) == y).sum().item()\n",
    "            acc_val += acc\n",
    "            \n",
    "    loss_train=loss_train/n_train\n",
    "    loss_val=loss_val/n_test\n",
    "    acc_train=acc_train/n_train\n",
    "    acc_val=acc_val/n_test\n",
    "    loss_train_list.append(loss_train)\n",
    "    loss_val_list.append(loss_val)\n",
    "    acc_train_list.append(acc_train)\n",
    "    acc_val_list.append(acc_val)\n",
    "    print(f'Epochs: {epoch + 1} | Train Loss: {loss_train: .3f} \\\n",
    "| Train Accuracy: {acc_train: .3f} | \\\n",
    "Val Loss: {loss_val: .3f}\\\n",
    "| Val Accuracy: {acc_val: .3f}')"
   ]
  },
  {
   "cell_type": "code",
   "execution_count": 136,
   "id": "1908d5a5",
   "metadata": {},
   "outputs": [
    {
     "data": {
      "image/png": "[encoded data removed]",
      "text/plain": [
       "<Figure size 700x500 with 1 Axes>"
      ]
     },
     "metadata": {},
     "output_type": "display_data"
    }
   ],
   "source": [
    "plt.figure(figsize=(7, 5))\n",
    "plt.plot(np.arange(len(loss_train_list)), loss_train_list, label = 'loss_train')\n",
    "plt.plot(np.arange(len(loss_val_list)), loss_val_list, label = 'loss_val')\n",
    "plt.legend(loc='upper right')\n",
    "plt.show()"
   ]
  }
 ],
 "metadata": {
  "kernelspec": {
   "display_name": "venv",
   "language": "python",
   "name": "python3"
  },
  "language_info": {
   "codemirror_mode": {
    "name": "ipython",
    "version": 3
   },
   "file_extension": ".py",
   "mimetype": "text/x-python",
   "name": "python",
   "nbconvert_exporter": "python",
   "pygments_lexer": "ipython3",
   "version": "3.12.3"
  }
 },
 "nbformat": 4,
 "nbformat_minor": 5
}
