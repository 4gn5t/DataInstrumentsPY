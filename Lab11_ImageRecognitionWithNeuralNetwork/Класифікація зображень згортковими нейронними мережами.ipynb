{
 "cells": [
  {
   "cell_type": "markdown",
   "id": "58102707",
   "metadata": {},
   "source": [
    "# Класифікація зображень згортковими нейронними мережами."
   ]
  },
  {
   "cell_type": "code",
   "execution_count": 1,
   "id": "e768cc7b",
   "metadata": {},
   "outputs": [],
   "source": [
    "import time\n",
    "import torch\n",
    "import torch.nn as nn\n",
    "import torch.nn.functional as F\n",
    "from torch.utils.data import DataLoader\n",
    "from torchvision import datasets, transforms\n",
    "from torchvision.utils import make_grid\n",
    "\n",
    "import numpy as np\n",
    "import pandas as pd\n",
    "from sklearn.metrics import confusion_matrix\n",
    "import matplotlib.pyplot as plt\n",
    "%matplotlib inline"
   ]
  },
  {
   "cell_type": "markdown",
   "id": "9250624b",
   "metadata": {},
   "source": [
    "## Завантаження даних."
   ]
  },
  {
   "cell_type": "code",
   "execution_count": 2,
   "id": "3dc7eef1",
   "metadata": {},
   "outputs": [
    {
     "name": "stdout",
     "output_type": "stream",
     "text": [
      "Downloading http://yann.lecun.com/exdb/mnist/train-images-idx3-ubyte.gz\n",
      "Downloading http://yann.lecun.com/exdb/mnist/train-images-idx3-ubyte.gz to MNIST/raw/train-images-idx3-ubyte.gz\n"
     ]
    },
    {
     "name": "stderr",
     "output_type": "stream",
     "text": [
      "100%|██████████| 9912422/9912422 [00:00<00:00, 33180431.62it/s]\n"
     ]
    },
    {
     "name": "stdout",
     "output_type": "stream",
     "text": [
      "Extracting MNIST/raw/train-images-idx3-ubyte.gz to MNIST/raw\n",
      "\n",
      "Downloading http://yann.lecun.com/exdb/mnist/train-labels-idx1-ubyte.gz\n",
      "Downloading http://yann.lecun.com/exdb/mnist/train-labels-idx1-ubyte.gz to MNIST/raw/train-labels-idx1-ubyte.gz\n"
     ]
    },
    {
     "name": "stderr",
     "output_type": "stream",
     "text": [
      "100%|██████████| 28881/28881 [00:00<00:00, 87779488.28it/s]\n"
     ]
    },
    {
     "name": "stdout",
     "output_type": "stream",
     "text": [
      "Extracting MNIST/raw/train-labels-idx1-ubyte.gz to MNIST/raw\n",
      "\n",
      "Downloading http://yann.lecun.com/exdb/mnist/t10k-images-idx3-ubyte.gz\n",
      "Downloading http://yann.lecun.com/exdb/mnist/t10k-images-idx3-ubyte.gz to MNIST/raw/t10k-images-idx3-ubyte.gz\n"
     ]
    },
    {
     "name": "stderr",
     "output_type": "stream",
     "text": [
      "100%|██████████| 1648877/1648877 [00:00<00:00, 11653587.45it/s]\n"
     ]
    },
    {
     "name": "stdout",
     "output_type": "stream",
     "text": [
      "Extracting MNIST/raw/t10k-images-idx3-ubyte.gz to MNIST/raw\n",
      "\n",
      "Downloading http://yann.lecun.com/exdb/mnist/t10k-labels-idx1-ubyte.gz\n",
      "Downloading http://yann.lecun.com/exdb/mnist/t10k-labels-idx1-ubyte.gz to MNIST/raw/t10k-labels-idx1-ubyte.gz\n"
     ]
    },
    {
     "name": "stderr",
     "output_type": "stream",
     "text": [
      "100%|██████████| 4542/4542 [00:00<00:00, 14894862.21it/s]"
     ]
    },
    {
     "name": "stdout",
     "output_type": "stream",
     "text": [
      "Extracting MNIST/raw/t10k-labels-idx1-ubyte.gz to MNIST/raw\n",
      "\n"
     ]
    },
    {
     "name": "stderr",
     "output_type": "stream",
     "text": [
      "\n"
     ]
    }
   ],
   "source": [
    "transform = transforms.ToTensor()\n",
    "train_data = datasets.MNIST(root='', train=True, download=True, transform=transform)\n",
    "test_data = datasets.MNIST(root='', train=False, download=True, transform=transform)"
   ]
  },
  {
   "cell_type": "code",
   "execution_count": 3,
   "id": "071448d7",
   "metadata": {},
   "outputs": [],
   "source": [
    "train_loader = DataLoader(train_data, batch_size=10, shuffle=True)\n",
    "test_loader = DataLoader(test_data, batch_size=10, shuffle=False)"
   ]
  },
  {
   "cell_type": "markdown",
   "id": "bfb61d69",
   "metadata": {},
   "source": [
    "## Створення моделі.\n",
    "Згорткові шари:<br><br>\n",
    "\n",
    "Перший згортковий шар: 1 вхідний канал, 6 вихідних з отримання властивостей, вказуємо розмір ядра 3 та розмір кроку 1;<br>\n",
    "Другий згортковий шар: 6 вхідних каналів з попереднього шару, 16 вихідних, детектор ознак має аналогічні параметри;<br>\n",
    "<br>\n",
    "Вхідний розмір першого шару розрахований наступним чином: 3x3 фільтр, застосований до зображення\n",
    "28х28 залишає край з усіх сторін розміром 1 піксель. За один шар розмір зображення змінюється з 28х28 до 26х26. Оскільки ядро\n",
    "застосовується двічі, розмір зображення буде: (((28−2)/2)−2)/2=5.5, що буде округлено до 5."
   ]
  },
  {
   "cell_type": "code",
   "execution_count": null,
   "id": "0fbaf555",
   "metadata": {},
   "outputs": [],
   "source": [
    "\n",
    "class ConvolutionalNetwork(nn.Module):\n",
    "    def __init__(self):\n",
    "        super().__init__()\n",
    "        self.conv1 = nn.Conv2d(1, 6, 3, 1)\n",
    "        self.conv2 = nn.Conv2d(6, 16, 3, 1)\n",
    "        self.fc1 = nn.Linear(5*5*16, 120)\n",
    "        self.fc2 = nn.Linear(120, 84)\n",
    "        self.fc3 = nn.Linear(84,10)\n",
    "\n",
    "    def forward(self, X):\n",
    "        X = F.relu(self.conv1(X))\n",
    "        X = F.max_pool2d(X, 2, 2)\n",
    "        X = F.relu(self.conv2(X))\n",
    "        X = F.max_pool2d(X, 2, 2)\n",
    "        X = X.view(-1, 5*5*16)\n",
    "        X = F.relu(self.fc1(X))\n",
    "        X = F.relu(self.fc2(X))\n",
    "        X = self.fc3(X)\n",
    "        return F.log_softmax(X, dim=1)"
   ]
  },
  {
   "cell_type": "code",
   "execution_count": 5,
   "id": "38b430d3",
   "metadata": {},
   "outputs": [
    {
     "data": {
      "text/plain": [
       "ConvolutionalNetwork(\n",
       "  (conv1): Conv2d(1, 6, kernel_size=(3, 3), stride=(1, 1))\n",
       "  (conv2): Conv2d(6, 16, kernel_size=(3, 3), stride=(1, 1))\n",
       "  (fc1): Linear(in_features=400, out_features=120, bias=True)\n",
       "  (fc2): Linear(in_features=120, out_features=84, bias=True)\n",
       "  (fc3): Linear(in_features=84, out_features=10, bias=True)\n",
       ")"
      ]
     },
     "execution_count": 5,
     "metadata": {},
     "output_type": "execute_result"
    }
   ],
   "source": [
    "torch.manual_seed(42)\n",
    "model = ConvolutionalNetwork()\n",
    "model"
   ]
  },
  {
   "cell_type": "code",
   "execution_count": 6,
   "id": "af4fbad8",
   "metadata": {},
   "outputs": [],
   "source": [
    "def count_parameters(model):\n",
    "    params = [p.numel() for p in model.parameters() if p.requires_grad]\n",
    "    for item in params:\n",
    "        print(f'{item:>6}')\n",
    "    print(f'______\\n{sum(params):>6}')"
   ]
  },
  {
   "cell_type": "code",
   "execution_count": 7,
   "id": "4a9f14ab",
   "metadata": {},
   "outputs": [
    {
     "name": "stdout",
     "output_type": "stream",
     "text": [
      "    54\n",
      "     6\n",
      "   864\n",
      "    16\n",
      " 48000\n",
      "   120\n",
      " 10080\n",
      "    84\n",
      "   840\n",
      "    10\n",
      "______\n",
      " 60074\n"
     ]
    }
   ],
   "source": [
    "count_parameters(model)"
   ]
  },
  {
   "cell_type": "markdown",
   "id": "cd41661a",
   "metadata": {},
   "source": [
    "## Створення оптимізатора та функції втрат."
   ]
  },
  {
   "cell_type": "code",
   "execution_count": 8,
   "id": "4403ef76",
   "metadata": {},
   "outputs": [],
   "source": [
    "criterion = nn.CrossEntropyLoss()\n",
    "optimizer = torch.optim.Adam(model.parameters(), lr=0.001)"
   ]
  },
  {
   "cell_type": "markdown",
   "id": "020ac9c2",
   "metadata": {},
   "source": [
    "## Тренування моделі."
   ]
  },
  {
   "cell_type": "code",
   "execution_count": 9,
   "id": "aa6cf493",
   "metadata": {},
   "outputs": [
    {
     "name": "stdout",
     "output_type": "stream",
     "text": [
      "epoch:  0  batch:  600 [  6000/60000]  loss: 0.04255062  accuracy:  78.483%\n",
      "epoch:  0  batch: 1200 [ 12000/60000]  loss: 0.08127413  accuracy:  85.825%\n",
      "epoch:  0  batch: 1800 [ 18000/60000]  loss: 0.31574458  accuracy:  88.689%\n",
      "epoch:  0  batch: 2400 [ 24000/60000]  loss: 0.02466622  accuracy:  90.479%\n",
      "epoch:  0  batch: 3000 [ 30000/60000]  loss: 0.00694099  accuracy:  91.620%\n",
      "epoch:  0  batch: 3600 [ 36000/60000]  loss: 0.00119799  accuracy:  92.456%\n",
      "epoch:  0  batch: 4200 [ 42000/60000]  loss: 0.48073339  accuracy:  93.105%\n",
      "epoch:  0  batch: 4800 [ 48000/60000]  loss: 0.02856708  accuracy:  93.585%\n",
      "epoch:  0  batch: 5400 [ 54000/60000]  loss: 0.00612010  accuracy:  93.996%\n",
      "epoch:  0  batch: 6000 [ 60000/60000]  loss: 0.04120112  accuracy:  94.315%\n",
      "epoch:  1  batch:  600 [  6000/60000]  loss: 0.03120892  accuracy:  97.817%\n",
      "epoch:  1  batch: 1200 [ 12000/60000]  loss: 0.04176106  accuracy:  97.825%\n",
      "epoch:  1  batch: 1800 [ 18000/60000]  loss: 0.00131547  accuracy:  97.872%\n",
      "epoch:  1  batch: 2400 [ 24000/60000]  loss: 0.01954934  accuracy:  97.858%\n",
      "epoch:  1  batch: 3000 [ 30000/60000]  loss: 0.25777736  accuracy:  97.883%\n",
      "epoch:  1  batch: 3600 [ 36000/60000]  loss: 0.00010489  accuracy:  97.900%\n",
      "epoch:  1  batch: 4200 [ 42000/60000]  loss: 0.00078962  accuracy:  97.948%\n",
      "epoch:  1  batch: 4800 [ 48000/60000]  loss: 0.00081522  accuracy:  97.956%\n",
      "epoch:  1  batch: 5400 [ 54000/60000]  loss: 0.00180845  accuracy:  97.978%\n",
      "epoch:  1  batch: 6000 [ 60000/60000]  loss: 0.00176929  accuracy:  97.967%\n",
      "epoch:  2  batch:  600 [  6000/60000]  loss: 0.00070091  accuracy:  98.650%\n",
      "epoch:  2  batch: 1200 [ 12000/60000]  loss: 0.00702540  accuracy:  98.583%\n",
      "epoch:  2  batch: 1800 [ 18000/60000]  loss: 0.00617300  accuracy:  98.561%\n",
      "epoch:  2  batch: 2400 [ 24000/60000]  loss: 0.00110284  accuracy:  98.554%\n",
      "epoch:  2  batch: 3000 [ 30000/60000]  loss: 0.40364504  accuracy:  98.487%\n",
      "epoch:  2  batch: 3600 [ 36000/60000]  loss: 0.01572116  accuracy:  98.508%\n",
      "epoch:  2  batch: 4200 [ 42000/60000]  loss: 0.03707386  accuracy:  98.519%\n",
      "epoch:  2  batch: 4800 [ 48000/60000]  loss: 0.00668947  accuracy:  98.525%\n",
      "epoch:  2  batch: 5400 [ 54000/60000]  loss: 0.00067501  accuracy:  98.526%\n",
      "epoch:  2  batch: 6000 [ 60000/60000]  loss: 0.00032821  accuracy:  98.535%\n",
      "epoch:  3  batch:  600 [  6000/60000]  loss: 0.00091175  accuracy:  98.850%\n",
      "epoch:  3  batch: 1200 [ 12000/60000]  loss: 0.00146901  accuracy:  98.900%\n",
      "epoch:  3  batch: 1800 [ 18000/60000]  loss: 0.00037214  accuracy:  98.883%\n",
      "epoch:  3  batch: 2400 [ 24000/60000]  loss: 0.00026604  accuracy:  98.838%\n",
      "epoch:  3  batch: 3000 [ 30000/60000]  loss: 0.05040563  accuracy:  98.857%\n",
      "epoch:  3  batch: 3600 [ 36000/60000]  loss: 0.05299742  accuracy:  98.847%\n",
      "epoch:  3  batch: 4200 [ 42000/60000]  loss: 0.00042380  accuracy:  98.869%\n",
      "epoch:  3  batch: 4800 [ 48000/60000]  loss: 0.06357887  accuracy:  98.854%\n",
      "epoch:  3  batch: 5400 [ 54000/60000]  loss: 0.17520162  accuracy:  98.848%\n",
      "epoch:  3  batch: 6000 [ 60000/60000]  loss: 0.00305198  accuracy:  98.830%\n",
      "epoch:  4  batch:  600 [  6000/60000]  loss: 0.00165861  accuracy:  99.167%\n",
      "epoch:  4  batch: 1200 [ 12000/60000]  loss: 0.07914088  accuracy:  99.175%\n",
      "epoch:  4  batch: 1800 [ 18000/60000]  loss: 0.00002074  accuracy:  99.150%\n",
      "epoch:  4  batch: 2400 [ 24000/60000]  loss: 0.00028486  accuracy:  99.108%\n",
      "epoch:  4  batch: 3000 [ 30000/60000]  loss: 0.00247656  accuracy:  99.093%\n",
      "epoch:  4  batch: 3600 [ 36000/60000]  loss: 0.00204572  accuracy:  99.097%\n",
      "epoch:  4  batch: 4200 [ 42000/60000]  loss: 0.00109572  accuracy:  99.107%\n",
      "epoch:  4  batch: 4800 [ 48000/60000]  loss: 0.00123288  accuracy:  99.108%\n",
      "epoch:  4  batch: 5400 [ 54000/60000]  loss: 0.00011290  accuracy:  99.081%\n",
      "epoch:  4  batch: 6000 [ 60000/60000]  loss: 0.00401427  accuracy:  99.080%\n",
      "\n",
      "Duration: 50 seconds\n"
     ]
    }
   ],
   "source": [
    "start_time = time.time()\n",
    "\n",
    "epochs = 5\n",
    "train_losses = []\n",
    "test_losses = []\n",
    "train_correct = []\n",
    "test_correct = []\n",
    "\n",
    "for i in range(epochs):\n",
    "    trn_corr = 0\n",
    "    tst_corr = 0\n",
    "    \n",
    "    for b, (X_train, y_train) in enumerate(train_loader):\n",
    "        b+=1\n",
    "        \n",
    "        y_pred = model(X_train)\n",
    "        loss = criterion(y_pred, y_train)\n",
    " \n",
    "        predicted = torch.max(y_pred.data, 1)[1]\n",
    "        batch_corr = (predicted == y_train).sum()\n",
    "        trn_corr += batch_corr\n",
    "        \n",
    "        optimizer.zero_grad()\n",
    "        loss.backward()\n",
    "        optimizer.step()\n",
    "        \n",
    "        if b%600 == 0:\n",
    "            print(f'epoch: {i:2}  batch: {b:4} [{10*b:6}/60000]  loss: {loss.item():10.8f}  \\\n",
    "accuracy: {trn_corr.item()*100/(10*b):7.3f}%')\n",
    "        \n",
    "    train_losses.append(loss)\n",
    "    train_correct.append(trn_corr)\n",
    "        \n",
    "    with torch.no_grad():\n",
    "        for b, (X_test, y_test) in enumerate(test_loader):\n",
    "\n",
    "            y_val = model(X_test)\n",
    "            predicted = torch.max(y_val.data, 1)[1] \n",
    "            tst_corr += (predicted == y_test).sum()\n",
    "            \n",
    "    loss = criterion(y_val, y_test)\n",
    "    test_losses.append(loss)\n",
    "    test_correct.append(tst_corr)\n",
    "        \n",
    "print(f'\\nDuration: {time.time() - start_time:.0f} seconds')          "
   ]
  },
  {
   "cell_type": "markdown",
   "id": "30dd3479",
   "metadata": {},
   "source": [
    "## Оцінка моделі."
   ]
  },
  {
   "cell_type": "code",
   "execution_count": 10,
   "id": "b72b621e",
   "metadata": {},
   "outputs": [
    {
     "data": {
      "image/png": "[encoded data removed]",
      "text/plain": [
       "<Figure size 640x480 with 1 Axes>"
      ]
     },
     "metadata": {},
     "output_type": "display_data"
    }
   ],
   "source": [
    "with torch.no_grad():\n",
    "    plt.plot(train_losses, label='training loss')\n",
    "    plt.plot(test_losses, label='validation loss')\n",
    "    plt.title('Loss')\n",
    "    plt.legend();"
   ]
  },
  {
   "cell_type": "code",
   "execution_count": 11,
   "id": "8cf36ea8",
   "metadata": {},
   "outputs": [
    {
     "data": {
      "image/png": "[encoded data removed]",
      "text/plain": [
       "<Figure size 640x480 with 1 Axes>"
      ]
     },
     "metadata": {},
     "output_type": "display_data"
    }
   ],
   "source": [
    "with torch.no_grad():\n",
    "    plt.plot([t/600 for t in train_correct], label='training accuracy')\n",
    "    plt.plot([t/100 for t in test_correct], label='validation accuracy')\n",
    "    plt.title('Accuracy')\n",
    "    plt.legend();"
   ]
  },
  {
   "cell_type": "code",
   "execution_count": 12,
   "id": "cbfc67e9",
   "metadata": {},
   "outputs": [
    {
     "name": "stdout",
     "output_type": "stream",
     "text": [
      "Test accuracy: 9882/10000 =  98.820%\n"
     ]
    }
   ],
   "source": [
    "test_load_all = DataLoader(test_data, batch_size=10000, shuffle=False)\n",
    "with torch.no_grad():\n",
    "    correct = 0\n",
    "    for X_test, y_test in test_load_all:\n",
    "        y_val = model(X_test)\n",
    "        predicted = torch.max(y_val,1)[1]\n",
    "        correct += (predicted == y_test).sum()\n",
    "print(f'Test accuracy: {correct.item()}/{len(test_data)} = {correct.item()*100/(len(test_data)):7.3f}%')"
   ]
  },
  {
   "cell_type": "code",
   "execution_count": 13,
   "id": "723077d9",
   "metadata": {},
   "outputs": [
    {
     "name": "stdout",
     "output_type": "stream",
     "text": [
      "[[   0    1    2    3    4    5    6    7    8    9]]\n",
      "\n",
      "[[ 972    0    0    0    0    2    3    0    3    0]\n",
      " [   0 1132    0    1    0    0    3    5    0    2]\n",
      " [   4    0 1027    2    0    0    1    7    1    0]\n",
      " [   0    3    0 1002    0   12    0    0    4    0]\n",
      " [   0    0    1    0  980    1    4    1    1   12]\n",
      " [   0    0    0    1    0  869    1    0    0    3]\n",
      " [   2    0    0    0    0    2  944    0    0    0]\n",
      " [   1    0    2    1    0    1    0 1009    2    3]\n",
      " [   1    0    2    2    0    0    2    2  961    3]\n",
      " [   0    0    0    1    2    5    0    4    2  986]]\n"
     ]
    }
   ],
   "source": [
    "np.set_printoptions(formatter=dict(int=lambda x: f'{x:4}'))\n",
    "print(np.arange(10).reshape(1,10))\n",
    "print()\n",
    "\n",
    "print(confusion_matrix(predicted.view(-1), y_test.view(-1)))"
   ]
  },
  {
   "cell_type": "code",
   "execution_count": 14,
   "id": "a40a0adb",
   "metadata": {},
   "outputs": [
    {
     "data": {
      "text/plain": [
       "118"
      ]
     },
     "execution_count": 14,
     "metadata": {},
     "output_type": "execute_result"
    }
   ],
   "source": [
    "misses = np.array([])\n",
    "for i in range(len(predicted.view(-1))):\n",
    "    if predicted[i] != y_test[i]:\n",
    "        misses = np.append(misses,i).astype('int64')\n",
    "        \n",
    "len(misses)"
   ]
  },
  {
   "cell_type": "code",
   "execution_count": 15,
   "id": "4ab2334a",
   "metadata": {},
   "outputs": [],
   "source": [
    "r = 12\n",
    "row = iter(np.array_split(misses,len(misses)//r+1))"
   ]
  },
  {
   "cell_type": "code",
   "execution_count": 16,
   "id": "300e1b2a",
   "metadata": {},
   "outputs": [
    {
     "name": "stdout",
     "output_type": "stream",
     "text": [
      "Індекс: [ 320  340  359  412  445  460  582  674  947  951 1014 1039]\n",
      "Значення: [   9    5    9    5    6    5    8    5    8    5    6    7]\n",
      "Передбачення: [   8    3    4    3    0    9    2    3    9    4    5    1]\n"
     ]
    },
    {
     "data": {
      "image/png": "[encoded data removed]",
      "text/plain": [
       "<Figure size 1000x400 with 1 Axes>"
      ]
     },
     "metadata": {},
     "output_type": "display_data"
    }
   ],
   "source": [
    "nextrow = next(row)\n",
    "print(\"Індекс:\", nextrow)\n",
    "print(\"Значення:\", y_test.index_select(0,torch.tensor(nextrow)).numpy())\n",
    "print(\"Передбачення:\", predicted.index_select(0,torch.tensor(nextrow)).numpy())\n",
    "\n",
    "images = X_test.index_select(0,torch.tensor(nextrow))\n",
    "im = make_grid(images, nrow=r)\n",
    "plt.figure(figsize=(10,4))\n",
    "plt.imshow(np.transpose(im.numpy(), (1, 2, 0)));"
   ]
  }
 ],
 "metadata": {
  "kernelspec": {
   "display_name": "Python 3 (ipykernel)",
   "language": "python",
   "name": "python3"
  },
  "language_info": {
   "codemirror_mode": {
    "name": "ipython",
    "version": 3
   },
   "file_extension": ".py",
   "mimetype": "text/x-python",
   "name": "python",
   "nbconvert_exporter": "python",
   "pygments_lexer": "ipython3",
   "version": "3.11.4"
  }
 },
 "nbformat": 4,
 "nbformat_minor": 5
}
