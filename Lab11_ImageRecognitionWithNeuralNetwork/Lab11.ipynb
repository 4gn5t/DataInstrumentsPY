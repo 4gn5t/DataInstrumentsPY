{
 "cells": [
  {
   "cell_type": "markdown",
   "id": "33068410",
   "metadata": {},
   "source": [
    "# Лабораторна робота №11. Класифiкацiя зображень за допомогою нейромереж.\n",
    "Для цієї лабораторної роботи необхідно використати набір даних <a href='https://www.kaggle.com/zalando-research/fashionmnist'>Fashion-MNIST</a> який доступний через <a href='https://pytorch.org/docs/stable/torchvision/index.html'>torchvision</a>. Цей датасет містить тренувальний набір з 60000 та тестовий набір з 10000 зображень. Кожне зображення є у сірому градієнті та має розміри 28х28. Набір розмічений у 10 значень, кожна міка має одне з наступних значеннь:\n",
    "\n",
    "0. Футболка;\n",
    "1. Штани;\n",
    "2. Светр;\n",
    "3. Плаття;\n",
    "4. Плащ;\n",
    "5. Сандалі;\n",
    "6. Сорочка;\n",
    "7. Кросівки;\n",
    "8. Сумка;\n",
    "9. Ботильйон;\n",
    "\n",
    "## Імпорт необхідних біліотек та завантаження даних."
   ]
  },
  {
   "cell_type": "code",
   "execution_count": 1,
   "id": "190e8296",
   "metadata": {},
   "outputs": [
    {
     "name": "stdout",
     "output_type": "stream",
     "text": [
      "Downloading http://fashion-mnist.s3-website.eu-central-1.amazonaws.com/train-images-idx3-ubyte.gz\n",
      "Downloading http://fashion-mnist.s3-website.eu-central-1.amazonaws.com/train-images-idx3-ubyte.gz to FashionMNIST\\raw\\train-images-idx3-ubyte.gz\n"
     ]
    },
    {
     "name": "stderr",
     "output_type": "stream",
     "text": [
      "100%|████████████████████████████████████████████████████████████████| 26421880/26421880 [00:01<00:00, 23615217.23it/s]\n"
     ]
    },
    {
     "name": "stdout",
     "output_type": "stream",
     "text": [
      "Extracting FashionMNIST\\raw\\train-images-idx3-ubyte.gz to FashionMNIST\\raw\n",
      "\n",
      "Downloading http://fashion-mnist.s3-website.eu-central-1.amazonaws.com/train-labels-idx1-ubyte.gz\n",
      "Downloading http://fashion-mnist.s3-website.eu-central-1.amazonaws.com/train-labels-idx1-ubyte.gz to FashionMNIST\\raw\\train-labels-idx1-ubyte.gz\n"
     ]
    },
    {
     "name": "stderr",
     "output_type": "stream",
     "text": [
      "100%|███████████████████████████████████████████████████████████████████████| 29515/29515 [00:00<00:00, 1345552.67it/s]\n"
     ]
    },
    {
     "name": "stdout",
     "output_type": "stream",
     "text": [
      "Extracting FashionMNIST\\raw\\train-labels-idx1-ubyte.gz to FashionMNIST\\raw\n",
      "\n",
      "Downloading http://fashion-mnist.s3-website.eu-central-1.amazonaws.com/t10k-images-idx3-ubyte.gz\n",
      "Downloading http://fashion-mnist.s3-website.eu-central-1.amazonaws.com/t10k-images-idx3-ubyte.gz to FashionMNIST\\raw\\t10k-images-idx3-ubyte.gz\n"
     ]
    },
    {
     "name": "stderr",
     "output_type": "stream",
     "text": [
      "100%|██████████████████████████████████████████████████████████████████| 4422102/4422102 [00:00<00:00, 16953517.78it/s]\n"
     ]
    },
    {
     "name": "stdout",
     "output_type": "stream",
     "text": [
      "Extracting FashionMNIST\\raw\\t10k-images-idx3-ubyte.gz to FashionMNIST\\raw\n",
      "\n",
      "Downloading http://fashion-mnist.s3-website.eu-central-1.amazonaws.com/t10k-labels-idx1-ubyte.gz\n",
      "Downloading http://fashion-mnist.s3-website.eu-central-1.amazonaws.com/t10k-labels-idx1-ubyte.gz to FashionMNIST\\raw\\t10k-labels-idx1-ubyte.gz\n"
     ]
    },
    {
     "name": "stderr",
     "output_type": "stream",
     "text": [
      "100%|█████████████████████████████████████████████████████████████████████████| 5148/5148 [00:00<00:00, 5213007.48it/s]"
     ]
    },
    {
     "name": "stdout",
     "output_type": "stream",
     "text": [
      "Extracting FashionMNIST\\raw\\t10k-labels-idx1-ubyte.gz to FashionMNIST\\raw\n",
      "\n"
     ]
    },
    {
     "name": "stderr",
     "output_type": "stream",
     "text": [
      "\n"
     ]
    }
   ],
   "source": [
    "import torch\n",
    "import torch.nn as nn\n",
    "import torch.nn.functional as F\n",
    "from torch.utils.data import DataLoader\n",
    "from torchvision import datasets, transforms\n",
    "from torchvision.utils import make_grid\n",
    "\n",
    "import numpy as np\n",
    "import pandas as pd\n",
    "from sklearn.metrics import confusion_matrix\n",
    "import matplotlib.pyplot as plt\n",
    "%matplotlib inline\n",
    "\n",
    "transform = transforms.ToTensor()\n",
    "\n",
    "train_data = datasets.FashionMNIST(root='', train=True, download=True, transform=transform)\n",
    "test_data = datasets.FashionMNIST(root='', train=False, download=True, transform=transform)\n",
    "\n",
    "class_names = ['T-shirt','Trouser','Sweater','Dress','Coat','Sandal','Shirt','Sneaker','Bag','Boot']"
   ]
  },
  {
   "cell_type": "markdown",
   "id": "de8dc745",
   "metadata": {},
   "source": [
    "## Створіть Data Loader-и."
   ]
  },
  {
   "cell_type": "code",
   "execution_count": 2,
   "id": "1e55cfa9",
   "metadata": {},
   "outputs": [],
   "source": [
    "# пишіть код тут."
   ]
  },
  {
   "cell_type": "markdown",
   "id": "10562572",
   "metadata": {},
   "source": [
    "## Дослідіть частину набору даних.\n",
    "Використайте make_grid, DataLoader та matplotlob щоб показати перші 10 зображень. \n",
    "Додатково можете вивести і значення (label), які присвоєні тим зображенням."
   ]
  },
  {
   "cell_type": "code",
   "execution_count": 3,
   "id": "64981326",
   "metadata": {},
   "outputs": [],
   "source": [
    "# пишіть код тут."
   ]
  },
  {
   "cell_type": "code",
   "execution_count": 4,
   "id": "e0d3c6cc",
   "metadata": {},
   "outputs": [
    {
     "data": {
      "image/png": "[encoded data removed]",
      "text/plain": [
       "<Figure size 1200x400 with 1 Axes>"
      ]
     },
     "metadata": {},
     "output_type": "display_data"
    }
   ],
   "source": []
  },
  {
   "cell_type": "code",
   "execution_count": 5,
   "id": "d5914e62",
   "metadata": {},
   "outputs": [
    {
     "name": "stdout",
     "output_type": "stream",
     "text": [
      "Label:  [4 0 9 4 0 9 1 5 9 3]\n",
      "Class:  Coat T-shirt Boot Coat T-shirt Boot Trouser Sandal Boot Dress\n"
     ]
    },
    {
     "data": {
      "image/png": "[encoded data removed]",
      "text/plain": [
       "<Figure size 1200x400 with 1 Axes>"
      ]
     },
     "metadata": {},
     "output_type": "display_data"
    }
   ],
   "source": []
  },
  {
   "cell_type": "markdown",
   "id": "73ea7829",
   "metadata": {},
   "source": [
    "## Якщо зораження 28х28 пропустити через згортковий шар, використовуючи фільтр 5х5, `stride` 1 і без відступів, який буде розмір матриці ознак?"
   ]
  },
  {
   "cell_type": "code",
   "execution_count": 6,
   "id": "b039240f",
   "metadata": {},
   "outputs": [],
   "source": []
  },
  {
   "cell_type": "markdown",
   "id": "162bd4a6",
   "metadata": {},
   "source": [
    "## Якщо матрицю з попереднього кроку пропустити через матрицю 2x2 MaxPolling шар, який розмір буде мати матриця результат?"
   ]
  },
  {
   "cell_type": "code",
   "execution_count": 7,
   "id": "4531112a",
   "metadata": {},
   "outputs": [],
   "source": []
  },
  {
   "cell_type": "markdown",
   "id": "0e9415b7",
   "metadata": {},
   "source": [
    "# Створення згорткової нейроної мережі.\n",
    "## Створіть клас згорткової нейронної мережі.\n",
    "Модель має мати два згорткових шари, два шари для отримання ознак і два повністю з'єднанних шари. Будь яка кількість нейронів у шарах може бути використана, але мережа на вхід має приймати зображення 28х28 та на виході мати 10 нейронів."
   ]
  },
  {
   "cell_type": "code",
   "execution_count": 8,
   "id": "50667593",
   "metadata": {},
   "outputs": [],
   "source": [
    "class ConvolutionalNetwork(nn.Module):\n",
    "    def __init__(self):\n",
    "        super().__init__()\n",
    "        pass\n",
    "\n",
    "    def forward(self, X):\n",
    "        pass \n",
    "        return \n",
    "    \n",
    "torch.manual_seed(101)\n",
    "model = ConvolutionalNetwork()"
   ]
  },
  {
   "cell_type": "markdown",
   "id": "aaf5a586",
   "metadata": {},
   "source": [
    "## Скільки параметрів, які будуть тренуватись у вашій моделі?"
   ]
  },
  {
   "cell_type": "code",
   "execution_count": 9,
   "id": "e563b37c",
   "metadata": {},
   "outputs": [],
   "source": []
  },
  {
   "cell_type": "markdown",
   "id": "eb82e0de",
   "metadata": {},
   "source": [
    "## Визначте функцію втрат та оптимізатор."
   ]
  },
  {
   "cell_type": "code",
   "execution_count": 10,
   "id": "ed3a0e25",
   "metadata": {},
   "outputs": [],
   "source": []
  },
  {
   "cell_type": "markdown",
   "id": "7506bede",
   "metadata": {},
   "source": [
    "## Натренуйте модель."
   ]
  },
  {
   "cell_type": "code",
   "execution_count": 11,
   "id": "2ebe3a4f",
   "metadata": {},
   "outputs": [
    {
     "name": "stdout",
     "output_type": "stream",
     "text": [
      "1 епоха з 5 завершена.\n",
      "2 епоха з 5 завершена.\n",
      "3 епоха з 5 завершена.\n",
      "4 епоха з 5 завершена.\n",
      "5 епоха з 5 завершена.\n"
     ]
    }
   ],
   "source": []
  },
  {
   "cell_type": "markdown",
   "id": "52143d35",
   "metadata": {},
   "source": [
    "##  Оцініть модель."
   ]
  },
  {
   "cell_type": "code",
   "execution_count": 12,
   "id": "7dea06ea",
   "metadata": {},
   "outputs": [
    {
     "name": "stdout",
     "output_type": "stream",
     "text": [
      "Test accuracy: 8827/10000 =  88.270%\n"
     ]
    }
   ],
   "source": []
  }
 ],
 "metadata": {
  "kernelspec": {
   "display_name": "Python 3 (ipykernel)",
   "language": "python",
   "name": "python3"
  },
  "language_info": {
   "codemirror_mode": {
    "name": "ipython",
    "version": 3
   },
   "file_extension": ".py",
   "mimetype": "text/x-python",
   "name": "python",
   "nbconvert_exporter": "python",
   "pygments_lexer": "ipython3",
   "version": "3.9.13"
  }
 },
 "nbformat": 4,
 "nbformat_minor": 5
}
