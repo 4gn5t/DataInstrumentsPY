{
 "cells": [
  {
   "cell_type": "markdown",
   "id": "2e8acc40",
   "metadata": {},
   "source": [
    "# Класифікація зображень штучними нейронними мережами. \n",
    "Спочатку, для порівняння створимо класифікатор зображень використовуючи просту нейронну мережу. Дані для класифікації будуть використані з набору даних <a href='https://en.wikipedia.org/wiki/MNIST_database'>MNIST</a>. Перед використанням даних з простою нейронною мережею, їх треба перетворити у одновимірний масив."
   ]
  },
  {
   "cell_type": "code",
   "execution_count": 1,
   "id": "ea575b28",
   "metadata": {},
   "outputs": [],
   "source": [
    "import torch\n",
    "import torch.nn as nn\n",
    "import torch.nn.functional as F\n",
    "from torch.utils.data import DataLoader\n",
    "from torchvision import datasets, transforms\n",
    "from torchvision.utils import make_grid\n",
    "\n",
    "import numpy as np\n",
    "import pandas as pd\n",
    "from sklearn.metrics import confusion_matrix\n",
    "import matplotlib.pyplot as plt\n",
    "%matplotlib inline"
   ]
  },
  {
   "cell_type": "markdown",
   "id": "52a5b13d",
   "metadata": {},
   "source": [
    "З PyTorch набір даних MNIST доступний через <a href='https://pytorch.org/docs/stable/torchvision/index.html'><tt><strong>torchvision</strong></tt></a>. При першому виклиre набір даних буде завантажено по вказаному шляху. Після цього torchvision буде завжди шукати локальну копію перед новим завантаженням.\n",
    "\n",
    "### Визначення трансформацій.\n",
    "Під час завантаження, до даних можна застосовувати різні трансформації (зміна форми, перетворення у тензори, нормалізація тощо)."
   ]
  },
  {
   "cell_type": "code",
   "execution_count": 2,
   "id": "e2b767f9",
   "metadata": {},
   "outputs": [],
   "source": [
    "transform = transforms.ToTensor()"
   ]
  },
  {
   "cell_type": "markdown",
   "id": "120b50af",
   "metadata": {},
   "source": [
    "### Завантаження тренувального набору."
   ]
  },
  {
   "cell_type": "code",
   "execution_count": 3,
   "id": "6fb05474",
   "metadata": {},
   "outputs": [
    {
     "data": {
      "text/plain": [
       "Dataset MNIST\n",
       "    Number of datapoints: 60000\n",
       "    Root location: \n",
       "    Split: Train\n",
       "    StandardTransform\n",
       "Transform: ToTensor()"
      ]
     },
     "execution_count": 3,
     "metadata": {},
     "output_type": "execute_result"
    }
   ],
   "source": [
    "train_data = datasets.MNIST(root='', train=True, download=True, transform=transform)\n",
    "train_data"
   ]
  },
  {
   "cell_type": "markdown",
   "id": "b5e6de34",
   "metadata": {},
   "source": [
    "### Завантаження тестового набору."
   ]
  },
  {
   "cell_type": "code",
   "execution_count": 4,
   "id": "aee31ad8",
   "metadata": {},
   "outputs": [
    {
     "data": {
      "text/plain": [
       "Dataset MNIST\n",
       "    Number of datapoints: 10000\n",
       "    Root location: \n",
       "    Split: Test\n",
       "    StandardTransform\n",
       "Transform: ToTensor()"
      ]
     },
     "execution_count": 4,
     "metadata": {},
     "output_type": "execute_result"
    }
   ],
   "source": [
    "test_data = datasets.MNIST(root='', train=False, download=True, transform=transform)\n",
    "test_data"
   ]
  },
  {
   "cell_type": "markdown",
   "id": "b9326ea1",
   "metadata": {},
   "source": [
    "### Дослідження даних."
   ]
  },
  {
   "cell_type": "code",
   "execution_count": 5,
   "id": "f059b20c",
   "metadata": {},
   "outputs": [
    {
     "name": "stdout",
     "output_type": "stream",
     "text": [
      "Shape: torch.Size([1, 28, 28]) \n",
      "Lable: 5\n"
     ]
    }
   ],
   "source": [
    "image, label = train_data[0]\n",
    "print('Shape:', image.shape, '\\nLable:', label)"
   ]
  },
  {
   "cell_type": "code",
   "execution_count": 6,
   "id": "5ecf511e",
   "metadata": {},
   "outputs": [
    {
     "data": {
      "text/plain": [
       "<matplotlib.image.AxesImage at 0x289551c50>"
      ]
     },
     "execution_count": 6,
     "metadata": {},
     "output_type": "execute_result"
    },
    {
     "data": {
      "image/png": "[encoded data removed]",
      "text/plain": [
       "<Figure size 640x480 with 1 Axes>"
      ]
     },
     "metadata": {},
     "output_type": "display_data"
    }
   ],
   "source": [
    "plt.imshow(train_data[0][0].reshape((28,28)), cmap=\"gray\")"
   ]
  },
  {
   "cell_type": "markdown",
   "id": "1c640671",
   "metadata": {},
   "source": [
    "### Завантаження даних частинами.\n",
    "Тренувальний набір містить 60000 записів. Модель буде містити 784 вхідних нейронів, приховані шари по 120 та 84 нейрони та 10 вихідних нейронів. Враховуючи зміщення для кожного шару, загальна кількість параметрів у тренуванні:\n",
    "\n",
    "$$\n",
    "\\begin{split}\\quad(784\\times120)+120+(120\\times84)+84+(84\\times10)+10 &=\\\\\n",
    "94080+120+10080+84+840+10 &= 105,214\\end{split}\n",
    "$$\n",
    "<br>\n",
    "\n",
    "Завантажувати дані будемо частинами використовуючи <a href='https://pytorch.org/docs/stable/data.html#torch.utils.data.DataLoader'>DataLoader</a> клас."
   ]
  },
  {
   "cell_type": "code",
   "execution_count": 7,
   "id": "a0ee52d1",
   "metadata": {},
   "outputs": [],
   "source": [
    "torch.manual_seed(101)\n",
    "\n",
    "train_loader = DataLoader(train_data, batch_size=100, shuffle=True)\n",
    "\n",
    "test_loader = DataLoader(test_data, batch_size=500, shuffle=False) # задання shuffle значення True означає, що набір даних буде \n",
    "# перетасовуватись після кожної епохи."
   ]
  },
  {
   "cell_type": "markdown",
   "id": "afdb826d",
   "metadata": {},
   "source": [
    "### Створення моделі.\n",
    "Для вирішення поставленої задачі буде використано <a href='https://en.wikipedia.org/wiki/Multilayer_perceptron'>багатошаровий персептрон.</a> Вхідний шар містить 784 нейрони (розмір зображення 28х28), кількість виходів 10, два приховані шари по 120 та 84 нейрони."
   ]
  },
  {
   "cell_type": "code",
   "execution_count": 8,
   "id": "2ac2f482",
   "metadata": {},
   "outputs": [],
   "source": [
    "class MultilayerPerceptron(nn.Module):\n",
    "    def __init__(self, in_sz=784, out_sz=10, layers=[120,84]):\n",
    "        super().__init__()\n",
    "        self.fc1 = nn.Linear(in_sz,layers[0])\n",
    "        self.fc2 = nn.Linear(layers[0],layers[1])\n",
    "        self.fc3 = nn.Linear(layers[1],out_sz)\n",
    "    \n",
    "    def forward(self,X):\n",
    "        X = F.relu(self.fc1(X))\n",
    "        X = F.relu(self.fc2(X))\n",
    "        X = self.fc3(X)\n",
    "        return F.log_softmax(X, dim=1)"
   ]
  },
  {
   "cell_type": "code",
   "execution_count": 9,
   "id": "e45d460f",
   "metadata": {},
   "outputs": [
    {
     "data": {
      "text/plain": [
       "MultilayerPerceptron(\n",
       "  (fc1): Linear(in_features=784, out_features=120, bias=True)\n",
       "  (fc2): Linear(in_features=120, out_features=84, bias=True)\n",
       "  (fc3): Linear(in_features=84, out_features=10, bias=True)\n",
       ")"
      ]
     },
     "execution_count": 9,
     "metadata": {},
     "output_type": "execute_result"
    }
   ],
   "source": [
    "torch.manual_seed(101)\n",
    "model = MultilayerPerceptron()\n",
    "model"
   ]
  },
  {
   "cell_type": "markdown",
   "id": "1bb1183a",
   "metadata": {},
   "source": [
    "### Обрахунок кількості праметрів."
   ]
  },
  {
   "cell_type": "code",
   "execution_count": 10,
   "id": "42ab1ac4",
   "metadata": {},
   "outputs": [],
   "source": [
    "def count_parameters(model):\n",
    "    params = [p.numel() for p in model.parameters() if p.requires_grad]\n",
    "    for item in params:\n",
    "        print(f'{item:>6}')\n",
    "    print(f'______\\n{sum(params):>6}')"
   ]
  },
  {
   "cell_type": "code",
   "execution_count": 11,
   "id": "0d1ee620",
   "metadata": {},
   "outputs": [
    {
     "name": "stdout",
     "output_type": "stream",
     "text": [
      " 94080\n",
      "   120\n",
      " 10080\n",
      "    84\n",
      "   840\n",
      "    10\n",
      "______\n",
      "105214\n"
     ]
    }
   ],
   "source": [
    "count_parameters(model)"
   ]
  },
  {
   "cell_type": "markdown",
   "id": "54a59788",
   "metadata": {},
   "source": [
    "### Визначення функції обрахунку втрат та оптимізатора моделі."
   ]
  },
  {
   "cell_type": "code",
   "execution_count": 12,
   "id": "e2d16328",
   "metadata": {},
   "outputs": [],
   "source": [
    "criterion = nn.CrossEntropyLoss()\n",
    "optimizer = torch.optim.Adam(model.parameters(), lr=0.001)"
   ]
  },
  {
   "cell_type": "markdown",
   "id": "bbb35cc8",
   "metadata": {},
   "source": [
    "### Сплющування даних."
   ]
  },
  {
   "cell_type": "code",
   "execution_count": 13,
   "id": "08c7400e",
   "metadata": {},
   "outputs": [
    {
     "name": "stdout",
     "output_type": "stream",
     "text": [
      "Розмір батчу: torch.Size([100, 1, 28, 28])\n"
     ]
    }
   ],
   "source": [
    "for images, labels in train_loader:\n",
    "    print('Розмір батчу:', images.size())\n",
    "    break"
   ]
  },
  {
   "cell_type": "code",
   "execution_count": 14,
   "id": "38359b07",
   "metadata": {},
   "outputs": [
    {
     "data": {
      "text/plain": [
       "torch.Size([100, 784])"
      ]
     },
     "execution_count": 14,
     "metadata": {},
     "output_type": "execute_result"
    }
   ],
   "source": [
    "images.view(100,-1).size()"
   ]
  },
  {
   "cell_type": "markdown",
   "id": "fd4ad86f",
   "metadata": {},
   "source": [
    "### Тренування моделі."
   ]
  },
  {
   "cell_type": "code",
   "execution_count": 15,
   "id": "099f3340",
   "metadata": {},
   "outputs": [
    {
     "name": "stdout",
     "output_type": "stream",
     "text": [
      "epoch:  0  batch:  200 [ 20000/60000]  loss: 0.29955009  accuracy:  82.655%\n",
      "epoch:  0  batch:  400 [ 40000/60000]  loss: 0.27258855  accuracy:  87.248%\n",
      "epoch:  0  batch:  600 [ 60000/60000]  loss: 0.18182538  accuracy:  89.320%\n",
      "epoch:  1  batch:  200 [ 20000/60000]  loss: 0.17060076  accuracy:  94.645%\n",
      "epoch:  1  batch:  400 [ 40000/60000]  loss: 0.05018539  accuracy:  95.007%\n",
      "epoch:  1  batch:  600 [ 60000/60000]  loss: 0.14207873  accuracy:  95.245%\n",
      "epoch:  2  batch:  200 [ 20000/60000]  loss: 0.16335155  accuracy:  96.545%\n",
      "epoch:  2  batch:  400 [ 40000/60000]  loss: 0.16890512  accuracy:  96.505%\n",
      "epoch:  2  batch:  600 [ 60000/60000]  loss: 0.11178840  accuracy:  96.583%\n",
      "epoch:  3  batch:  200 [ 20000/60000]  loss: 0.14472547  accuracy:  97.510%\n",
      "epoch:  3  batch:  400 [ 40000/60000]  loss: 0.01248284  accuracy:  97.525%\n",
      "epoch:  3  batch:  600 [ 60000/60000]  loss: 0.07453437  accuracy:  97.450%\n",
      "epoch:  4  batch:  200 [ 20000/60000]  loss: 0.05818376  accuracy:  98.060%\n",
      "epoch:  4  batch:  400 [ 40000/60000]  loss: 0.10403296  accuracy:  97.927%\n",
      "epoch:  4  batch:  600 [ 60000/60000]  loss: 0.10179393  accuracy:  97.972%\n",
      "epoch:  5  batch:  200 [ 20000/60000]  loss: 0.07725783  accuracy:  98.555%\n",
      "epoch:  5  batch:  400 [ 40000/60000]  loss: 0.01842375  accuracy:  98.472%\n",
      "epoch:  5  batch:  600 [ 60000/60000]  loss: 0.03447369  accuracy:  98.372%\n",
      "epoch:  6  batch:  200 [ 20000/60000]  loss: 0.02526271  accuracy:  98.800%\n",
      "epoch:  6  batch:  400 [ 40000/60000]  loss: 0.04087014  accuracy:  98.670%\n",
      "epoch:  6  batch:  600 [ 60000/60000]  loss: 0.03091489  accuracy:  98.680%\n",
      "epoch:  7  batch:  200 [ 20000/60000]  loss: 0.00389875  accuracy:  99.015%\n",
      "epoch:  7  batch:  400 [ 40000/60000]  loss: 0.00935772  accuracy:  98.925%\n",
      "epoch:  7  batch:  600 [ 60000/60000]  loss: 0.02776354  accuracy:  98.865%\n",
      "epoch:  8  batch:  200 [ 20000/60000]  loss: 0.00799994  accuracy:  99.195%\n",
      "epoch:  8  batch:  400 [ 40000/60000]  loss: 0.09437387  accuracy:  99.200%\n",
      "epoch:  8  batch:  600 [ 60000/60000]  loss: 0.04265547  accuracy:  99.137%\n",
      "epoch:  9  batch:  200 [ 20000/60000]  loss: 0.03747333  accuracy:  99.305%\n",
      "epoch:  9  batch:  400 [ 40000/60000]  loss: 0.03140638  accuracy:  99.267%\n",
      "epoch:  9  batch:  600 [ 60000/60000]  loss: 0.01687700  accuracy:  99.208%\n",
      "Тривалість: 17 секунд\n"
     ]
    }
   ],
   "source": [
    "import time\n",
    "start_time = time.time()\n",
    "\n",
    "epochs = 10\n",
    "train_losses = []\n",
    "test_losses = []\n",
    "train_correct = []\n",
    "test_correct = []\n",
    "\n",
    "for i in range(epochs):\n",
    "    trn_corr = 0\n",
    "    tst_corr = 0\n",
    "    \n",
    "    for b, (X_train, y_train) in enumerate(train_loader):\n",
    "        b+=1\n",
    "        \n",
    "        y_pred = model(X_train.view(100, -1))\n",
    "        loss = criterion(y_pred, y_train)\n",
    " \n",
    "        predicted = torch.max(y_pred.data, 1)[1]\n",
    "        batch_corr = (predicted == y_train).sum()\n",
    "        trn_corr += batch_corr\n",
    "        \n",
    "        optimizer.zero_grad()\n",
    "        loss.backward()\n",
    "        optimizer.step()\n",
    "        \n",
    "        if b%200 == 0:\n",
    "            print(f'epoch: {i:2}  batch: {b:4} [{100*b:6}/60000]  loss: {loss.item():10.8f}  \\\n",
    "accuracy: {trn_corr.item()*100/(100*b):7.3f}%')\n",
    "    \n",
    "    train_losses.append(loss)\n",
    "    train_correct.append(trn_corr)\n",
    "        \n",
    "    with torch.no_grad():\n",
    "        for b, (X_test, y_test) in enumerate(test_loader):\n",
    "\n",
    "            y_val = model(X_test.view(500, -1))\n",
    "\n",
    "            predicted = torch.max(y_val.data, 1)[1] \n",
    "            tst_corr += (predicted == y_test).sum()\n",
    "    \n",
    "    loss = criterion(y_val, y_test)\n",
    "    test_losses.append(loss)\n",
    "    test_correct.append(tst_corr)\n",
    "        \n",
    "print(f'Тривалість: {time.time() - start_time:.0f} секунд') # print the time elapsed            "
   ]
  },
  {
   "cell_type": "code",
   "execution_count": 16,
   "id": "dd216c56",
   "metadata": {},
   "outputs": [
    {
     "data": {
      "image/png": "[encoded data removed]",
      "text/plain": [
       "<Figure size 640x480 with 1 Axes>"
      ]
     },
     "metadata": {},
     "output_type": "display_data"
    }
   ],
   "source": [
    "with torch.no_grad():\n",
    "    plt.plot(train_losses, label='training loss')\n",
    "    plt.plot(test_losses, label='validation loss')\n",
    "    plt.title('Loss')\n",
    "    plt.legend();"
   ]
  },
  {
   "cell_type": "code",
   "execution_count": 17,
   "id": "cd1ea213",
   "metadata": {},
   "outputs": [
    {
     "data": {
      "image/png": "[encoded data removed]",
      "text/plain": [
       "<Figure size 640x480 with 1 Axes>"
      ]
     },
     "metadata": {},
     "output_type": "display_data"
    }
   ],
   "source": [
    "with torch.no_grad():\n",
    "    plt.plot([t/600 for t in train_correct], label='training accuracy')\n",
    "    plt.plot([t/100 for t in test_correct], label='validation accuracy')\n",
    "    plt.title('Accuracy')\n",
    "    plt.legend();"
   ]
  },
  {
   "cell_type": "code",
   "execution_count": 18,
   "id": "de24347a",
   "metadata": {},
   "outputs": [
    {
     "name": "stdout",
     "output_type": "stream",
     "text": [
      "Тест accuracy: 9762/10000 =  97.620%\n"
     ]
    }
   ],
   "source": [
    "test_load_all = DataLoader(test_data, batch_size=10000, shuffle=False)\n",
    "with torch.no_grad():\n",
    "    correct = 0\n",
    "    for X_test, y_test in test_load_all:\n",
    "        y_val = model(X_test.view(len(X_test), -1))\n",
    "        predicted = torch.max(y_val,1)[1]\n",
    "        correct += (predicted == y_test).sum()\n",
    "print(f'Тест accuracy: {correct.item()}/{len(test_data)} = {correct.item()*100/(len(test_data)):7.3f}%')"
   ]
  },
  {
   "cell_type": "code",
   "execution_count": 19,
   "id": "64563707",
   "metadata": {},
   "outputs": [
    {
     "name": "stdout",
     "output_type": "stream",
     "text": [
      "[[   0    1    2    3    4    5    6    7    8    9]]\n",
      "\n",
      "[[ 974    0    2    1    1    2    2    1    3    6]\n",
      " [   0 1123    0    0    1    0    4    7    0    2]\n",
      " [   1    3 1017   10    4    0    2   15    2    0]\n",
      " [   1    2    2  982    0   14    1    6    2    8]\n",
      " [   0    0    1    0  953    1    1    0    0    6]\n",
      " [   0    0    0    2    0  857    2    1    2    5]\n",
      " [   2    2    2    1    7    6  944    0    2    1]\n",
      " [   0    0    2    2    1    0    0  984    2    1]\n",
      " [   2    5    5   11    3   11    2    6  959   11]\n",
      " [   0    0    1    1   12    1    0    8    2  969]]\n"
     ]
    }
   ],
   "source": [
    "np.set_printoptions(formatter=dict(int=lambda x: f'{x:4}'))\n",
    "print(np.arange(10).reshape(1,10))\n",
    "print()\n",
    "\n",
    "print(confusion_matrix(predicted.view(-1), y_test.view(-1)))"
   ]
  },
  {
   "cell_type": "code",
   "execution_count": 20,
   "id": "6f9a5144",
   "metadata": {},
   "outputs": [
    {
     "data": {
      "text/plain": [
       "238"
      ]
     },
     "execution_count": 20,
     "metadata": {},
     "output_type": "execute_result"
    }
   ],
   "source": [
    "misses = np.array([])\n",
    "for i in range(len(predicted.view(-1))):\n",
    "    if predicted[i] != y_test[i]:\n",
    "        misses = np.append(misses,i).astype('int64')\n",
    "        \n",
    "len(misses)"
   ]
  },
  {
   "cell_type": "code",
   "execution_count": 21,
   "id": "15f70f9c",
   "metadata": {},
   "outputs": [],
   "source": [
    "r = 12\n",
    "row = iter(np.array_split(misses,len(misses)//r+1))"
   ]
  },
  {
   "cell_type": "code",
   "execution_count": 22,
   "id": "daa6a67f",
   "metadata": {},
   "outputs": [
    {
     "name": "stdout",
     "output_type": "stream",
     "text": [
      "Індекс: [  18   33  115  149  151  193  241  247  274  321  340  381]\n",
      "Значення: [   3    4    4    2    9    9    9    4    9    2    5    3]\n",
      "Передбачення: [   8    0    9    9    8    8    8    2    3    7    3    7]\n"
     ]
    },
    {
     "data": {
      "image/png": "[encoded data removed]",
      "text/plain": [
       "<Figure size 1000x400 with 1 Axes>"
      ]
     },
     "metadata": {},
     "output_type": "display_data"
    }
   ],
   "source": [
    "nextrow = next(row)\n",
    "print(\"Індекс:\", nextrow)\n",
    "print(\"Значення:\", y_test.index_select(0,torch.tensor(nextrow)).numpy())\n",
    "print(\"Передбачення:\", predicted.index_select(0,torch.tensor(nextrow)).numpy())\n",
    "\n",
    "images = X_test.index_select(0,torch.tensor(nextrow))\n",
    "im = make_grid(images, nrow=r)\n",
    "plt.figure(figsize=(10,4))\n",
    "plt.imshow(np.transpose(im.numpy(), (1, 2, 0)));"
   ]
  }
 ],
 "metadata": {
  "kernelspec": {
   "display_name": "Python 3 (ipykernel)",
   "language": "python",
   "name": "python3"
  },
  "language_info": {
   "codemirror_mode": {
    "name": "ipython",
    "version": 3
   },
   "file_extension": ".py",
   "mimetype": "text/x-python",
   "name": "python",
   "nbconvert_exporter": "python",
   "pygments_lexer": "ipython3",
   "version": "3.11.4"
  }
 },
 "nbformat": 4,
 "nbformat_minor": 5
}
