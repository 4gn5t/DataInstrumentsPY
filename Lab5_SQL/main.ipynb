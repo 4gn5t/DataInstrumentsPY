{
 "cells": [
  {
   "cell_type": "code",
   "execution_count": 1,
   "metadata": {},
   "outputs": [],
   "source": [
    "import sqlite3\n",
    "import pandas as pd"
   ]
  },
  {
   "cell_type": "code",
   "execution_count": 4,
   "metadata": {},
   "outputs": [],
   "source": [
    "# create a db\n",
    "conn = sqlite3.connect('blogdb.db')\n",
    "cursor = conn.cursor()"
   ]
  },
  {
   "cell_type": "code",
   "execution_count": 5,
   "metadata": {},
   "outputs": [
    {
     "data": {
      "text/plain": [
       "<sqlite3.Cursor at 0x12504cac0>"
      ]
     },
     "execution_count": 5,
     "metadata": {},
     "output_type": "execute_result"
    }
   ],
   "source": [
    "cursor.execute('''\n",
    "CREATE TABLE posts\n",
    "    (\n",
    "    id INTEGER PRIMARY KEY AUTOINCREMENT, \n",
    "    title TEXT,\n",
    "    content TEXT\n",
    "    )\n",
    "''')"
   ]
  },
  {
   "cell_type": "code",
   "execution_count": null,
   "metadata": {},
   "outputs": [
    {
     "data": {
      "text/plain": [
       "<sqlite3.Cursor at 0x12504cac0>"
      ]
     },
     "execution_count": 9,
     "metadata": {},
     "output_type": "execute_result"
    }
   ],
   "source": [
    "cursor.execute('''\n",
    "    CREATE TABLE comments\n",
    "    (\n",
    "    id INTEGER PRIMARY KEY AUTOINCREMENT,\n",
    "    post_id INTEGER,\n",
    "    AUTHOR TEXT,\n",
    "    content TEXT,\n",
    "    FOREIGN KEY(post_id) REFERENCES posts(id)\n",
    "    )\n",
    "''')"
   ]
  },
  {
   "cell_type": "code",
   "execution_count": 11,
   "metadata": {},
   "outputs": [],
   "source": [
    "posts = [\n",
    "    ('First Post', 'This is my first post'),\n",
    "    ('Second Post', 'This is my second post'),\n",
    "    ('Third Post', 'This is my third post'),\n",
    "    ('Fourth Post', 'This is my fourth post')\n",
    "]\n",
    "\n",
    "cursor.executemany('''\n",
    "    INSERT INTO posts (title, content)\n",
    "    VALUES (?, ?)\n",
    "''', posts)\n",
    "conn.commit()"
   ]
  },
  {
   "cell_type": "code",
   "execution_count": null,
   "metadata": {},
   "outputs": [
    {
     "name": "stdout",
     "output_type": "stream",
     "text": [
      "[(1, 'First Post', 'This is my first post'), (2, 'Second Post', 'This is my second post'), (3, 'Third Post', 'This is my third post'), (4, 'Fourth Post', 'This is my fourth post')]\n",
      "\n",
      "[('This is my first post',), ('This is my second post',), ('This is my third post',), ('This is my fourth post',)]\n",
      "\n",
      "[(1, 'First Post', 'This is my first post')]\n",
      "\n"
     ]
    }
   ],
   "source": [
    "cursor.execute('''SELECT * FROM posts''')\n",
    "print(f\"{cursor.fetchall()}\\n\")\n",
    "\n",
    "cursor.execute('''SELECT content FROM posts''')\n",
    "print(f\"{cursor.fetchall()}\\n\")\n",
    "\n",
    "cursor.execute(''' SELECT * FROM posts WHERE id = 1''')\n",
    "print(f\"{cursor.fetchall()}\\n\")\n",
    "\n",
    "cursor.execute('''SELECT * FROM posts WHERE title = \"First Post\"''')"
   ]
  },
  {
   "cell_type": "code",
   "execution_count": null,
   "metadata": {},
   "outputs": [],
   "source": []
  },
  {
   "cell_type": "code",
   "execution_count": null,
   "metadata": {},
   "outputs": [],
   "source": []
  }
 ],
 "metadata": {
  "kernelspec": {
   "display_name": "venv",
   "language": "python",
   "name": "python3"
  },
  "language_info": {
   "codemirror_mode": {
    "name": "ipython",
    "version": 3
   },
   "file_extension": ".py",
   "mimetype": "text/x-python",
   "name": "python",
   "nbconvert_exporter": "python",
   "pygments_lexer": "ipython3",
   "version": "3.10.16"
  }
 },
 "nbformat": 4,
 "nbformat_minor": 2
}
