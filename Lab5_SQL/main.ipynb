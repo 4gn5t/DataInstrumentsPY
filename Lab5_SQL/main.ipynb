{
 "cells": [
  {
   "cell_type": "code",
   "execution_count": 36,
   "metadata": {},
   "outputs": [],
   "source": [
    "import sqlite3\n",
    "import pandas as pd"
   ]
  },
  {
   "cell_type": "code",
   "execution_count": 37,
   "metadata": {},
   "outputs": [],
   "source": [
    "conn = sqlite3.connect('blogdb.db')\n",
    "cursor = conn.cursor()"
   ]
  },
  {
   "cell_type": "code",
   "execution_count": 38,
   "metadata": {},
   "outputs": [
    {
     "data": {
      "text/plain": [
       "<sqlite3.Cursor at 0x7f066e4dd440>"
      ]
     },
     "execution_count": 38,
     "metadata": {},
     "output_type": "execute_result"
    }
   ],
   "source": [
    "cursor.execute('''\n",
    "CREATE TABLE users\n",
    "    (\n",
    "    id INTEGER PRIMARY KEY AUTOINCREMENT,\n",
    "    username TEXT,\n",
    "    password TEXT,\n",
    "    email TEXT,\n",
    "    first_name TEXT,\n",
    "    last_name TEXT,\n",
    "    bio TEXT,\n",
    "    age INTEGER,\n",
    "    created_at TIMESTAMP DEFAULT CURRENT_TIMESTAMP\n",
    "    )\n",
    "''')\n",
    "\n",
    "cursor.execute('''\n",
    "CREATE TABLE posts\n",
    "    (\n",
    "    id INTEGER PRIMARY KEY AUTOINCREMENT, \n",
    "    title TEXT,\n",
    "    content TEXT,\n",
    "    user_id INTEGER,\n",
    "    created_at TIMESTAMP DEFAULT CURRENT_TIMESTAMP,\n",
    "    FOREIGN KEY(user_id) REFERENCES users(id)\n",
    "    )\n",
    "''')\n",
    "\n",
    "cursor.execute('''\n",
    "    CREATE TABLE comments\n",
    "    (\n",
    "    id INTEGER PRIMARY KEY AUTOINCREMENT,\n",
    "    post_id INTEGER,\n",
    "    author_id INTEGER,\n",
    "    content TEXT,\n",
    "    created_at TIMESTAMP DEFAULT CURRENT_TIMESTAMP,\n",
    "    FOREIGN KEY(post_id) REFERENCES posts(id),\n",
    "    FOREIGN KEY(author_id) REFERENCES users(id)\n",
    "    )\n",
    "''')\n",
    "\n"
   ]
  },
  {
   "cell_type": "code",
   "execution_count": 83,
   "metadata": {},
   "outputs": [],
   "source": [
    "\n",
    "users = [\n",
    "    ('Alice', 'password123', 'alice@example.com', 'Alice', 'Smith', 'I love blogging about tech', 30),\n",
    "    ('Bob', 'securepass', 'bob@example.com', 'Bob', 'Johnson', 'Photography enthusiast', 28),\n",
    "    ('Charlie', 'mypassword', 'charlie@example.com', 'Charlie', 'Brown', 'Travel blogger', 35),\n",
    "    ('Diana', 'dianapass', 'diana@example.com', 'Diana', 'Prince', 'Fitness and wellness coach', 29),\n",
    "    ('Yurii', 'securepass', 'somemal@example.com', 'Yurii', 'Zborivskyi', 'I am a software engineer', 20),\n",
    "    ('Eve', 'evepass', 'eve@example.com', 'Eve', 'Adams', 'Food blogger and chef', 32),\n",
    "    ('Frank', 'frankpass', 'frank@example.com', 'Frank', 'Miller', 'Tech enthusiast and gamer', 27),\n",
    "    ('Grace', 'gracepass', 'grace@example.com', 'Grace', 'Hopper', 'Coding and programming mentor', 40),\n",
    "    ('Hank', 'hankpass', 'hank@example.com', 'Hank', 'Williams', 'Music producer and songwriter', 33),\n",
    "    ('Ivy', 'ivypass', 'ivy@example.com', 'Ivy', 'Green', 'Nature and wildlife photographer', 26),\n",
    "]\n",
    "\n",
    "cursor.executemany('''\n",
    "    INSERT INTO users (username, password, email, first_name, last_name, bio, age)\n",
    "    VALUES (?, ?, ?, ?, ?, ?, ?)\n",
    "''', users)\n",
    "conn.commit()\n",
    "\n",
    "posts_with_users = [\n",
    "    ('My First Blog Post', 'This is the content of my first blog post.', 1),\n",
    "    ('A Day in the Life', 'Today was a great day! I went to the park and had a picnic.', 2),\n",
    "    ('Traveling to Japan', 'I just got back from an amazing trip to Japan!', 3),\n",
    "    ('Cooking Tips', 'Here are some of my favorite cooking tips.', 4),\n",
    "    ('Tech Trends 2023', 'Let\\'s discuss the latest tech trends for 2023.', 5),\n",
    "    ('Photography Basics', 'Learn the basics of photography with me!', 6),\n",
    "    ('Fitness Journey', 'Join me on my fitness journey and share your tips!', 7),\n",
    "    ('Music Production 101', 'An introduction to music production techniques.', 8),\n",
    "    ('Nature Photography', 'Capturing the beauty of nature through photography.', 9),\n",
    "    ('Coding for Beginners', 'A beginner\\'s guide to coding and programming.', 10),\n",
    "    ('My Second Blog Post', 'This is the content of my second blog post.', 11)\n",
    "]\n",
    "\n",
    "cursor.executemany('''\n",
    "    INSERT INTO posts (title, content, user_id)\n",
    "    VALUES (?, ?, ?)\n",
    "''', posts_with_users)\n",
    "conn.commit()\n",
    "\n",
    "comments = [\n",
    "    (1, 2, 'Great first post!'),\n",
    "    (1, 3, 'I enjoyed reading this'),\n",
    "    (2, 4, 'Thanks for sharing your day'),\n",
    "    (3, 5, 'Japan is on my bucket list'),\n",
    "    (4, 6, 'These cooking tips are helpful'),\n",
    "    (5, 7, 'Interesting tech trends'),\n",
    "    (6, 8, 'Photography tips are useful'),\n",
    "    (7, 9, 'Keep up the fitness journey'),\n",
    "    (8, 10, 'Music production sounds fun'),\n",
    "    (9, 1, 'Beautiful nature photos'),\n",
    "    (11, 2, 'Looking forward to more posts'),\n",
    "]\n",
    "\n",
    "cursor.executemany('''\n",
    "    INSERT INTO comments (post_id, author_id, content)\n",
    "    VALUES (?, ?, ?)\n",
    "''', comments)\n",
    "conn.commit()\n"
   ]
  },
  {
   "cell_type": "code",
   "execution_count": null,
   "metadata": {},
   "outputs": [
    {
     "name": "stdout",
     "output_type": "stream",
     "text": [
      "[(1, 'My First Blog Post', 'This is the content of my first blog post.', 1, '2025-03-31 15:14:02'), (2, 'A Day in the Life', 'Today was a great day! I went to the park and had a picnic.', 2, '2025-03-31 15:14:02'), (3, 'Traveling to Japan', 'I just got back from an amazing trip to Japan!', 3, '2025-03-31 15:14:02'), (4, 'Cooking Tips', 'Here are some of my favorite cooking tips.', 4, '2025-03-31 15:14:02'), (5, 'Tech Trends 2023', \"Let's discuss the latest tech trends for 2023.\", 5, '2025-03-31 15:14:02'), (6, 'Photography Basics', 'Learn the basics of photography with me!', 6, '2025-03-31 15:14:02'), (7, 'Fitness Journey', 'Join me on my fitness journey and share your tips!', 7, '2025-03-31 15:14:02'), (8, 'Music Production 101', 'An introduction to music production techniques.', 8, '2025-03-31 15:14:02'), (9, 'Nature Photography', 'Capturing the beauty of nature through photography.', 9, '2025-03-31 15:14:02'), (10, 'Coding for Beginners', \"A beginner's guide to coding and programming.\", 10, '2025-03-31 15:14:02'), (11, 'My Second Blog Post', 'This is the content of my second blog post.', 11, '2025-03-31 15:14:02')]\n",
      "\n",
      "[('This is the content of my first blog post.',), ('Today was a great day! I went to the park and had a picnic.',), ('I just got back from an amazing trip to Japan!',), ('Here are some of my favorite cooking tips.',), (\"Let's discuss the latest tech trends for 2023.\",), ('Learn the basics of photography with me!',), ('Join me on my fitness journey and share your tips!',), ('An introduction to music production techniques.',), ('Capturing the beauty of nature through photography.',), (\"A beginner's guide to coding and programming.\",), ('This is the content of my second blog post.',)]\n",
      "\n",
      "[(9, 'Nature Photography', 'Capturing the beauty of nature through photography.', 9, '2025-03-31 15:14:02')]\n",
      "\n",
      "[(1, 'My First Blog Post', 'This is the content of my first blog post.', 1, '2025-03-31 15:14:02')]\n",
      "\n",
      "[(1, 'My First Blog Post', 'This is the content of my first blog post.', 1, '2025-03-31 15:14:02'), (11, 'My Second Blog Post', 'This is the content of my second blog post.', 11, '2025-03-31 15:14:02')]\n",
      "\n",
      "[(1, 1, 2, 'Great first post!', '2025-03-31 15:14:02'), (2, 1, 3, 'I enjoyed reading this', '2025-03-31 15:14:02'), (3, 2, 4, 'Thanks for sharing your day', '2025-03-31 15:14:02'), (4, 3, 5, 'Japan is on my bucket list', '2025-03-31 15:14:02'), (5, 4, 6, 'These cooking tips are helpful', '2025-03-31 15:14:02'), (6, 5, 7, 'Interesting tech trends', '2025-03-31 15:14:02'), (7, 6, 8, 'Photography tips are useful', '2025-03-31 15:14:02'), (8, 7, 9, 'Keep up the fitness journey', '2025-03-31 15:14:02'), (9, 8, 10, 'Music production sounds fun', '2025-03-31 15:14:02'), (10, 9, 1, 'Beautiful nature photos', '2025-03-31 15:14:02')]\n",
      "\n"
     ]
    }
   ],
   "source": [
    "cursor.execute('''SELECT * FROM posts''')\n",
    "print(f\"{cursor.fetchall()}\\n\")\n",
    "\n",
    "cursor.execute('''SELECT content FROM posts''')\n",
    "print(f\"{cursor.fetchall()}\\n\")\n",
    "\n",
    "cursor.execute(''' SELECT * FROM posts WHERE id = 9''')\n",
    "print(f\"{cursor.fetchall()}\\n\")\n",
    "\n",
    "cursor.execute('''SELECT * FROM posts WHERE title = \"My First Blog Post\"''')\n",
    "print(f\"{cursor.fetchall()}\\n\")\n",
    "\n",
    "cursor.execute('''SELECT * FROM posts WHERE title LIKE \"%My%\"''')\n",
    "print(f\"{cursor.fetchall()}\\n\")\n"
   ]
  },
  {
   "cell_type": "code",
   "execution_count": 64,
   "metadata": {},
   "outputs": [
    {
     "name": "stdout",
     "output_type": "stream",
     "text": [
      "[('2025-03-31 15:14:02',), ('2025-03-31 15:14:02',), ('2025-03-31 15:14:02',), ('2025-03-31 15:14:02',), ('2025-03-31 15:14:02',), ('2025-03-31 15:14:02',), ('2025-03-31 15:14:02',), ('2025-03-31 15:14:02',), ('2025-03-31 15:14:02',), ('2025-03-31 15:14:02',)]\n",
      "\n",
      "[(1, 2), (2, 4), (3, 5), (4, 6), (5, 7), (6, 8), (7, 9), (8, 10), (9, 1)]\n",
      "\n",
      "[(2, 1, 'I enjoyed reading this'), (3, 2, 'Thanks for sharing your day'), (4, 3, 'Japan is on my bucket list'), (5, 4, 'These cooking tips are helpful'), (6, 5, 'Interesting tech trends'), (7, 6, 'Photography tips are useful'), (8, 7, 'Keep up the fitness journey'), (9, 8, 'Music production sounds fun'), (10, 9, 'Beautiful nature photos')]\n",
      "\n",
      "[(1,), (2,), (4,), (5,), (7,), (10,)]\n",
      "\n"
     ]
    }
   ],
   "source": [
    "cursor.execute('''SELECT created_at FROM comments ORDER BY created_at DESC''')\n",
    "print(f\"{cursor.fetchall()}\\n\")\n",
    "\n",
    "cursor.execute('''SELECT post_id, author_id  FROM comments GROUP BY post_id''')\n",
    "print(f\"{cursor.fetchall()}\\n\")\n",
    "\n",
    "cursor.execute('''SELECT id, post_id, content FROM comments WHERE LENGTH(content) > 20''')\n",
    "print(f\"{cursor.fetchall()}\\n\")\n",
    "\n",
    "cursor.execute('''SELECT id FROM users WHERE age BETWEEN 20 AND 30''')\n",
    "print(f\"{cursor.fetchall()}\\n\")"
   ]
  },
  {
   "cell_type": "code",
   "execution_count": null,
   "metadata": {},
   "outputs": [
    {
     "name": "stdout",
     "output_type": "stream",
     "text": [
      "[('Grace', 1, 40), ('Charlie', 1, 35), ('Hank', 1, 33), ('Eve', 1, 32), ('Alice', 1, 30), ('Diana', 1, 29), ('Bob', 1, 28), ('Frank', 1, 27), ('Ivy', 1, 26), ('Yurii', 1, 20)]\n",
      "\n"
     ]
    }
   ],
   "source": [
    "cursor.execute('''\n",
    "    SELECT users.username, COUNT(posts.id) as post_quantity, age\n",
    "    FROM users\n",
    "    JOIN posts ON users.id = posts.user_id\n",
    "    GROUP BY users.username\n",
    "    HAVING post_quantity >= 1\n",
    "    ORDER BY age DESC\n",
    "''')\n",
    "print(f\"{cursor.fetchall()}\\n\")\n"
   ]
  },
  {
   "cell_type": "code",
   "execution_count": 85,
   "metadata": {},
   "outputs": [
    {
     "name": "stdout",
     "output_type": "stream",
     "text": [
      "[('Alice', 'My First Blog Post'), ('Bob', 'A Day in the Life'), ('Charlie', 'Traveling to Japan'), ('Diana', 'Cooking Tips'), ('Yurii', 'Tech Trends 2023'), ('Eve', 'Photography Basics'), ('Frank', 'Fitness Journey'), ('Grace', 'Music Production 101'), ('Hank', 'Nature Photography'), ('Ivy', 'Coding for Beginners'), ('Alice', 'My Second Blog Post'), ('Alice', 'My First Blog Post'), ('Bob', 'A Day in the Life'), ('Charlie', 'Traveling to Japan'), ('Diana', 'Cooking Tips'), ('Yurii', 'Tech Trends 2023'), ('Eve', 'Photography Basics'), ('Frank', 'Fitness Journey'), ('Grace', 'Music Production 101'), ('Hank', 'Nature Photography'), ('Ivy', 'Coding for Beginners'), ('Alice', 'My Second Blog Post')]\n",
      "\n",
      "[('Alice', 'My First Blog Post'), ('Alice', 'My First Blog Post'), ('Bob', 'A Day in the Life'), ('Bob', 'A Day in the Life'), ('Charlie', 'Traveling to Japan'), ('Charlie', 'Traveling to Japan'), ('Diana', 'Cooking Tips'), ('Diana', 'Cooking Tips'), ('Yurii', 'Tech Trends 2023'), ('Yurii', 'Tech Trends 2023'), ('Eve', 'Photography Basics'), ('Eve', 'Photography Basics'), ('Frank', 'Fitness Journey'), ('Frank', 'Fitness Journey'), ('Grace', 'Music Production 101'), ('Grace', 'Music Production 101'), ('Hank', 'Nature Photography'), ('Hank', 'Nature Photography'), ('Ivy', 'Coding for Beginners'), ('Ivy', 'Coding for Beginners'), ('Alice', 'My Second Blog Post'), ('Alice', 'My Second Blog Post'), ('Bob', None), ('Charlie', None), ('Diana', None), ('Yurii', None), ('Eve', None), ('Frank', None), ('Grace', None), ('Hank', None), ('Ivy', None)]\n",
      "\n",
      "[('My First Blog Post', 'Alice'), ('My First Blog Post', 'Alice'), ('A Day in the Life', 'Bob'), ('A Day in the Life', 'Bob'), ('Traveling to Japan', 'Charlie'), ('Traveling to Japan', 'Charlie'), ('Cooking Tips', 'Diana'), ('Cooking Tips', 'Diana'), ('Tech Trends 2023', 'Yurii'), ('Tech Trends 2023', 'Yurii'), ('Photography Basics', 'Eve'), ('Photography Basics', 'Eve'), ('Fitness Journey', 'Frank'), ('Fitness Journey', 'Frank'), ('Music Production 101', 'Grace'), ('Music Production 101', 'Grace'), ('Nature Photography', 'Hank'), ('Nature Photography', 'Hank'), ('Coding for Beginners', 'Ivy'), ('Coding for Beginners', 'Ivy'), ('My Second Blog Post', 'Alice'), ('My Second Blog Post', 'Alice')]\n",
      "\n"
     ]
    }
   ],
   "source": [
    "cursor.execute('''\n",
    "    SELECT users.username, posts.title\n",
    "    FROM users\n",
    "    INNER JOIN posts ON users.id = posts.user_id\n",
    "''')\n",
    "print(f\"{cursor.fetchall()}\\n\")\n",
    "\n",
    "cursor.execute('''\n",
    "    SELECT users.username, posts.title\n",
    "    FROM users\n",
    "    LEFT JOIN posts ON users.id = posts.user_id\n",
    "''')\n",
    "print(f\"{cursor.fetchall()}\\n\")\n",
    "\n",
    "cursor.execute('''\n",
    "    SELECT posts.title, users.username \n",
    "    FROM users\n",
    "    RIGHT JOIN posts ON users.id = posts.user_id\n",
    "''')\n",
    "print(f\"{cursor.fetchall()}\\n\")"
   ]
  }
 ],
 "metadata": {
  "kernelspec": {
   "display_name": "venv",
   "language": "python",
   "name": "python3"
  },
  "language_info": {
   "codemirror_mode": {
    "name": "ipython",
    "version": 3
   },
   "file_extension": ".py",
   "mimetype": "text/x-python",
   "name": "python",
   "nbconvert_exporter": "python",
   "pygments_lexer": "ipython3",
   "version": "3.12.3"
  }
 },
 "nbformat": 4,
 "nbformat_minor": 2
}
