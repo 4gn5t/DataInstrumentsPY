{
 "cells": [
  {
   "cell_type": "markdown",
   "metadata": {},
   "source": [
    "## [multiprocessing](https://docs.python.org/3/library/multiprocessing.html)\n",
    "Бібліотека `multiprocessing` в Python надає інструменти для створення та управління процесами. Це дозволяє розподілити обчислення між різними ядрами процесора, що значно прискорює виконання обчислювально складних завдань.\n",
    "\n",
    "[Pool](https://docs.python.org/3/library/multiprocessing.html#multiprocessing.pool.Pool) - Це основний об'єкт в multiprocessing, який представляє пул робочих процесів.\n",
    "Кількість процесів визначається кількістю доступних ядер процесора або бажаним рівнем паралелізму.\n",
    "Для паралельного виконання функцій використовується метод map. Він застосовує задану функцію до кожного елемента ітерабельного об'єкта в окремому процесі.\n",
    "\n",
    "Важливе зауваження:\n",
    "*  Код, що використовує multiprocessing, зазвичай розміщується всередині блоку if __name__ == '__main__'. Це пов'язано із особливостями запуску процесів в Python."
   ]
  },
  {
   "cell_type": "code",
   "execution_count": 1,
   "metadata": {},
   "outputs": [
    {
     "name": "stdout",
     "output_type": "stream",
     "text": [
      "[1, 4, 9, 16]\n"
     ]
    }
   ],
   "source": [
    "%run multiprocessing_example.py"
   ]
  },
  {
   "cell_type": "markdown",
   "metadata": {},
   "source": [
    "## Спільна пам'ять (Shared Memory)\n",
    "\n",
    "Використовується для обміну даними між процесами, уникаючи марної серіалізації та десеріалізації.\n",
    "Для цього створюється область пам'яті, доступна всім процесам в пулі.\n",
    "\n",
    "Обмеження:\n",
    "* Всі процеси повинні мати однаковий тип даних в спільному об'єкті.\n",
    "* Зміна даних в одному процесі негайно відображається в інших.\n",
    "* Можливі проблеми з синхронізацією при одночасному доступі до даних."
   ]
  },
  {
   "cell_type": "code",
   "execution_count": 2,
   "metadata": {},
   "outputs": [
    {
     "name": "stdout",
     "output_type": "stream",
     "text": [
      "[0, 2, 4, 6]\n"
     ]
    }
   ],
   "source": [
    "%run multiprocessing_shared_memory.py"
   ]
  }
 ],
 "metadata": {
  "kernelspec": {
   "display_name": "base",
   "language": "python",
   "name": "python3"
  },
  "language_info": {
   "codemirror_mode": {
    "name": "ipython",
    "version": 3
   },
   "file_extension": ".py",
   "mimetype": "text/x-python",
   "name": "python",
   "nbconvert_exporter": "python",
   "pygments_lexer": "ipython3",
   "version": "3.11.4"
  }
 },
 "nbformat": 4,
 "nbformat_minor": 2
}
