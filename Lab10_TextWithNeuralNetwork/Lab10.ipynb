{
 "cells": [
  {
   "cell_type": "markdown",
   "id": "eacd634f",
   "metadata": {},
   "source": [
    "# Лабораторна робота №10. Класифiкацiя текстових даних за допомогою нейромереж.\n",
    "\n",
    "Завданням на цій лабораторній роботі є створити простий класифікатор та класифікувати дані з набору imdb та оцінити його роботу.\n",
    "\n",
    "### Імпорт бібліотек."
   ]
  },
  {
   "cell_type": "code",
   "execution_count": null,
   "id": "c2a713ff",
   "metadata": {},
   "outputs": [],
   "source": []
  },
  {
   "cell_type": "markdown",
   "id": "62d32ff0",
   "metadata": {},
   "source": [
    "### Завантаження даних.\n",
    "Запустіть цю клітинку, щоб завантажити дані. У цій лабораторній буде використано весь набір бази даних imdb, або 25000 записів."
   ]
  },
  {
   "cell_type": "code",
   "execution_count": 2,
   "id": "135d827a",
   "metadata": {},
   "outputs": [
    {
     "name": "stderr",
     "output_type": "stream",
     "text": [
      "Found cached dataset imdb (C:/Users/simic/.cache/huggingface/datasets/imdb/plain_text/1.0.0/d613c88cf8fa3bab83b4ded3713f1f74830d1100e171db75bbddb80b3345c9c0)\n"
     ]
    },
    {
     "data": {
      "application/vnd.jupyter.widget-view+json": {
       "model_id": "1fe97660c0dc4ee9b49d554c1c9be2eb",
       "version_major": 2,
       "version_minor": 0
      },
      "text/plain": [
       "  0%|          | 0/3 [00:00<?, ?it/s]"
      ]
     },
     "metadata": {},
     "output_type": "display_data"
    }
   ],
   "source": [
    "from datasets import load_dataset\n",
    "\n",
    "imdb = load_dataset(\"imdb\")\n",
    "imdb = imdb['train']"
   ]
  },
  {
   "cell_type": "markdown",
   "id": "720944a4",
   "metadata": {},
   "source": [
    "### Створіть датафрейм з словника 'imdb'."
   ]
  },
  {
   "cell_type": "code",
   "execution_count": null,
   "id": "a725b670",
   "metadata": {},
   "outputs": [],
   "source": []
  },
  {
   "cell_type": "code",
   "execution_count": 3,
   "id": "038bf0e9",
   "metadata": {},
   "outputs": [
    {
     "data": {
      "text/html": [
       "<div>\n",
       "<style scoped>\n",
       "    .dataframe tbody tr th:only-of-type {\n",
       "        vertical-align: middle;\n",
       "    }\n",
       "\n",
       "    .dataframe tbody tr th {\n",
       "        vertical-align: top;\n",
       "    }\n",
       "\n",
       "    .dataframe thead th {\n",
       "        text-align: right;\n",
       "    }\n",
       "</style>\n",
       "<table border=\"1\" class=\"dataframe\">\n",
       "  <thead>\n",
       "    <tr style=\"text-align: right;\">\n",
       "      <th></th>\n",
       "      <th>text</th>\n",
       "      <th>label</th>\n",
       "    </tr>\n",
       "  </thead>\n",
       "  <tbody>\n",
       "    <tr>\n",
       "      <th>0</th>\n",
       "      <td>I rented I AM CURIOUS-YELLOW from my video sto...</td>\n",
       "      <td>0</td>\n",
       "    </tr>\n",
       "    <tr>\n",
       "      <th>1</th>\n",
       "      <td>\"I Am Curious: Yellow\" is a risible and preten...</td>\n",
       "      <td>0</td>\n",
       "    </tr>\n",
       "    <tr>\n",
       "      <th>2</th>\n",
       "      <td>If only to avoid making this type of film in t...</td>\n",
       "      <td>0</td>\n",
       "    </tr>\n",
       "    <tr>\n",
       "      <th>3</th>\n",
       "      <td>This film was probably inspired by Godard's Ma...</td>\n",
       "      <td>0</td>\n",
       "    </tr>\n",
       "    <tr>\n",
       "      <th>4</th>\n",
       "      <td>Oh, brother...after hearing about this ridicul...</td>\n",
       "      <td>0</td>\n",
       "    </tr>\n",
       "  </tbody>\n",
       "</table>\n",
       "</div>"
      ],
      "text/plain": [
       "                                                text  label\n",
       "0  I rented I AM CURIOUS-YELLOW from my video sto...      0\n",
       "1  \"I Am Curious: Yellow\" is a risible and preten...      0\n",
       "2  If only to avoid making this type of film in t...      0\n",
       "3  This film was probably inspired by Godard's Ma...      0\n",
       "4  Oh, brother...after hearing about this ridicul...      0"
      ]
     },
     "execution_count": 3,
     "metadata": {},
     "output_type": "execute_result"
    }
   ],
   "source": []
  },
  {
   "cell_type": "markdown",
   "id": "078bdbf7",
   "metadata": {},
   "source": [
    "### Проведіть попередню обробку даних.\n",
    "Необхідно видалити всі небуквенні символи з набору даних, перевести всі символи у нижній регістр, провести стематизацію слів та видалити стоп слова з відгуків."
   ]
  },
  {
   "cell_type": "code",
   "execution_count": 4,
   "id": "91710a14",
   "metadata": {},
   "outputs": [],
   "source": []
  },
  {
   "cell_type": "code",
   "execution_count": 5,
   "id": "28a4e393",
   "metadata": {},
   "outputs": [
    {
     "name": "stdout",
     "output_type": "stream",
     "text": [
      "['rent curiou yellow video store controversi surround first releas also heard first seiz u custom ever tri enter countri therefor fan film consid controversi realli see br br plot center around young swedish drama student name lena want learn everyth life particular want focu attent make sort documentari averag swede thought certain polit issu vietnam war race issu unit state ask politician ordinari denizen stockholm opinion polit sex drama teacher classmat marri men br br kill curiou yellow year ago consid pornograph realli sex nuditi scene far even not shot like cheapli made porno countrymen mind find shock realiti sex nuditi major stapl swedish cinema even ingmar bergman arguabl answer good old boy john ford sex scene film br br commend filmmak fact sex shown film shown artist purpos rather shock peopl make money shown pornograph theater america curiou yellow good film anyon want studi meat potato pun intend swedish cinema realli film much plot', 'curiou yellow risibl pretenti steam pile matter one polit view film hardli taken serious level claim frontal male nuditi automat nc true seen r rate film male nuditi grant offer fleet view r rate film gape vulva flap labia nowher exist goe crappi cabl show schlong swing breez not clitori sight pretenti indi movi like brown bunni treat site vincent gallo throb johnson not trace pink visibl chloe sevigni cri impli doubl standard matter nuditi mental obtus take account one unavoid obviou anatom differ men women genit display actress appear nude cannot said man fact gener see femal genit american film anyth short porn explicit erotica alleg doubl standard less doubl standard admittedli depress abil come term cultur insid women bodi', 'avoid make type film futur film interest experi tell cogent stori br br one might feel virtuou sit thru touch mani import issu without discern motiv viewer come away new perspect unless one come one one mind wander invari pointless film br br one might better spend one time stare window tree grow br br', 'film probabl inspir godard masculin f minin urg see film instead br br film two strong element realist act impress undeservedli good photo apart strike endless stream silli lena nyman annoy actress world act stupid nuditi film unattract compar godard film intellectu replac stupid without go far subject would say follow differ ideal french swedish societi br br movi time place', 'oh brother hear ridicul film umpteen year think old peggi lee song br br earli teen smoke fish hit u young get theater although manag sneak goodby columbu screen local film museum beckon final could see film except old parent schlep see br br reason film not condemn anonym sand time obscen case spark u releas million peopl flock stinker think go see sex film instead got lot closeup gnarli repuls swede street interview bland shop mall asini polit pretens feebl care simul sex scene saggi pale actor br br cultur icon holi grail histor artifact whatev thing shred burn stuff ash lead box br br elit esthet still scrape find valu bore pseudo revolutionari polit spew censorship scandal would ignor forgotten br br instead blank blank rhythym titl repeat endlessli year titil porno film curiou lavend gay film curiou black blaxploit film etc everi ten year thing rise dead view new gener sucker want see naughti sex film revolution film industri br br yeesh avoid like plagu must see rent video fast forward dirti part get br br', 'would put top list film categori unwatch trash film bad worst kind one unwatch suppos like suppos good sex sequenc shock day even arous rabbit call controversi polit strictli high school sophomor amateur night marxism film self conscious arti worst sens term photographi harsh graini black white scene focu taken wrong angl even sound bad peopl call art br br', 'whoever wrote screenplay movi obvious never consult book lucil ball especi autobiographi never seen mani mistak biopic rang earli year celoron jamestown later year desi could write whole list factual error would go page believ lucil ball one inimit peopl simpli cannot portray anyon luci arnaz desi jr would irat mani mistak made film filmmak tri hard movi seem aw sloppi', 'first saw glimps movi quickli notic actress play role lucil ball rachel york portray luci absolut aw lucil ball astound comedian incred talent think legend like lucil ball portray way movi horrend cannot believ actress world could play much better luci produc decid get rachel york might good actress role play role lucil ball tough pretti hard find someon could resembl lucil ball could least find someon bit similar look talent notic york portray luci episod love luci like chocol factori vitavetavegamin noth similar way express voic movement br br top danni pino play desi arnaz horribl pino not qualifi play ricki small skinni accent unreal act unbeliev although fred ethel not similar either not bad charact luci ricki br br overal extrem horribl cast stori badli told peopl want understand real life situat lucil ball suggest watch e biographi luci desi read book lucil ball pb american master find luci want see docudrama laughter would better choic cast lucil ball desi arnaz laughter much better compar least similar aspect shown rather noth', 'actor filmmak certainli audienc among air puf product exist kind movi look like lot fun shoot much fun nobodi get actual work done almost alway make movi fun watch br br ritter don glass hammer home charact statu sort dopplegang bespectacl bogdanovich scene breezi ms stratten sweet embarrass look guy date prom queen feel ben gazzara sport usual cat got canari grin futil attempt elev meager plot requir pursu audrey hepburn interest narcolept insomnia clinic meantim bud coupl respect children nepot alert bogdanovich daughter spew cute pick fairli disturb pointer love observ parent ms hepburn draw digniti manag rise proceed monument challeng play ostens everybodi look great movi expect much look better pick copi vogu br br oh mention colleen camp thoroughli annoy even apart sing compet wholli unconvinc countri western number woefulli mismatch standard soundtrack sure not gershwin wrote song movi titl deriv mind stage music may slight least long charm laugh tri coast good intent nobodi least peter bogdanovich good sens put brake br br due small part tragic death dorothi stratten movi special place heart mr bogdanovich even bought back produc distribut went bankrupt prove popular rise fall among sympathet tragic hollywood stori joy critic film real emot invest ms stratten scene laugh faint echo last pictur show paper moon doc follow daisi miller long last love thunder confirm phase p b never emerg br br though movi harmless wast rental want watch peopl good time go park sunni day filmic express joy love stick ernest lubitsch jaqu demi', 'said person film peter bogdonavitch base life chang thing around fit charact detect detect date beauti model problem get sound like millionair playboy filmmak detect entir movi written peter show touch real peopl suppos write know inde leav audienc bore confus jealou matter curio peopl want see dorothi stratten murder right film patti hanson would real life marri keith richard also model like stratten lot better ampl part fact stratten part seem forc ad lot stori pretti convolut begin everi charact film somebodi peopl relat unless millionair manhattan beauti supermodel beckon call rest us irrit snore fest happen touch entertain friend insid joke bore rest']\n"
     ]
    }
   ],
   "source": []
  },
  {
   "cell_type": "markdown",
   "id": "696eee15",
   "metadata": {},
   "source": [
    "### Створіть модель Bag of Words."
   ]
  },
  {
   "cell_type": "code",
   "execution_count": 6,
   "id": "92f95597",
   "metadata": {},
   "outputs": [],
   "source": []
  },
  {
   "cell_type": "markdown",
   "id": "b25ee564",
   "metadata": {},
   "source": [
    "### Розділ моделі на тренувальні та тестові дані."
   ]
  },
  {
   "cell_type": "code",
   "execution_count": 7,
   "id": "6cf1a8f9",
   "metadata": {},
   "outputs": [],
   "source": []
  },
  {
   "cell_type": "markdown",
   "id": "0d2eee28",
   "metadata": {},
   "source": [
    "### Створіть та натренуйте класифікатор."
   ]
  },
  {
   "cell_type": "code",
   "execution_count": 8,
   "id": "be2f219b",
   "metadata": {},
   "outputs": [
    {
     "data": {
      "text/plain": [
       "GaussianNB()"
      ]
     },
     "execution_count": 8,
     "metadata": {},
     "output_type": "execute_result"
    }
   ],
   "source": []
  },
  {
   "cell_type": "markdown",
   "id": "106e38d9",
   "metadata": {},
   "source": [
    "### Протестуйте роботу моделі на тестових даних."
   ]
  },
  {
   "cell_type": "code",
   "execution_count": 9,
   "id": "f0349d83",
   "metadata": {},
   "outputs": [
    {
     "name": "stdout",
     "output_type": "stream",
     "text": [
      "[[1 1]\n",
      " [0 0]\n",
      " [1 1]\n",
      " ...\n",
      " [0 0]\n",
      " [0 0]\n",
      " [0 0]]\n"
     ]
    }
   ],
   "source": []
  },
  {
   "cell_type": "markdown",
   "id": "295d53f4",
   "metadata": {},
   "source": [
    "### Оцініть роботу моделі використовуючи матрицю конфузії."
   ]
  },
  {
   "cell_type": "code",
   "execution_count": null,
   "id": "50f0b6cb",
   "metadata": {},
   "outputs": [],
   "source": []
  },
  {
   "cell_type": "code",
   "execution_count": 10,
   "id": "05262824",
   "metadata": {},
   "outputs": [
    {
     "name": "stdout",
     "output_type": "stream",
     "text": [
      "[[2133  363]\n",
      " [ 913 1591]]\n"
     ]
    },
    {
     "data": {
      "text/plain": [
       "0.7448"
      ]
     },
     "execution_count": 10,
     "metadata": {},
     "output_type": "execute_result"
    }
   ],
   "source": []
  },
  {
   "cell_type": "markdown",
   "id": "7378c0b9",
   "metadata": {},
   "source": [
    "### Створіть свою рекурентну/LSTM мережу, яка здатна класифікувати текст."
   ]
  }
 ],
 "metadata": {
  "kernelspec": {
   "display_name": "Python 3 (ipykernel)",
   "language": "python",
   "name": "python3"
  },
  "language_info": {
   "codemirror_mode": {
    "name": "ipython",
    "version": 3
   },
   "file_extension": ".py",
   "mimetype": "text/x-python",
   "name": "python",
   "nbconvert_exporter": "python",
   "pygments_lexer": "ipython3",
   "version": "3.11.4"
  }
 },
 "nbformat": 4,
 "nbformat_minor": 5
}
